{
 "cells": [
  {
   "cell_type": "code",
   "execution_count": 15,
   "source": [
    "import urllib.request\r\n",
    "import requests\r\n",
    "import json\r\n",
    "import pandas as pd\r\n",
    "import plotly.express as px\r\n",
    "from datetime import datetime"
   ],
   "outputs": [],
   "metadata": {}
  },
  {
   "cell_type": "code",
   "execution_count": 16,
   "source": [
    "#0501013B0 = Amoxicillin\r\n",
    "\r\n",
    "url_0501013B0 = \"https://openprescribing.net/api/1.0/spending_by_ccg/?code=0501013B0&format=json\"\r\n",
    "response_0501013B0 = urllib.request.urlopen(url_0501013B0)\r\n",
    "data_0501013B0 = json.loads(response_0501013B0.read())\r\n",
    "flat_data_0501013B0 = pd.json_normalize(data_0501013B0)\r\n",
    "flat_data_0501013B0 = flat_data_0501013B0.groupby(['row_name', 'row_id', 'date']).sum()\r\n",
    "flat_data_0501013B0 = flat_data_0501013B0.drop(columns=['items', 'quantity'])\r\n",
    "flat_data_0501013B0 .rename(columns={'actual_cost': 'Amoxicillin'}, inplace=True)\r\n",
    "flat_data_0501013B0"
   ],
   "outputs": [
    {
     "output_type": "execute_result",
     "data": {
      "text/plain": [
       "                                    Amoxicillin\n",
       "row_name         row_id date                   \n",
       "NHS BARNSLEY CCG 02P    2016-05-01      4077.60\n",
       "                        2016-06-01      3371.07\n",
       "                        2016-07-01      3168.21\n",
       "                        2016-08-01      2574.71\n",
       "                        2016-09-01      3019.71\n",
       "...                                         ...\n",
       "NHS WIRRAL CCG   12F    2020-12-01      4516.10\n",
       "                        2021-01-01      3984.33\n",
       "                        2021-02-01      3270.02\n",
       "                        2021-03-01      3681.28\n",
       "                        2021-04-01      4233.48\n",
       "\n",
       "[6382 rows x 1 columns]"
      ],
      "text/html": [
       "<div>\n",
       "<style scoped>\n",
       "    .dataframe tbody tr th:only-of-type {\n",
       "        vertical-align: middle;\n",
       "    }\n",
       "\n",
       "    .dataframe tbody tr th {\n",
       "        vertical-align: top;\n",
       "    }\n",
       "\n",
       "    .dataframe thead th {\n",
       "        text-align: right;\n",
       "    }\n",
       "</style>\n",
       "<table border=\"1\" class=\"dataframe\">\n",
       "  <thead>\n",
       "    <tr style=\"text-align: right;\">\n",
       "      <th></th>\n",
       "      <th></th>\n",
       "      <th></th>\n",
       "      <th>Amoxicillin</th>\n",
       "    </tr>\n",
       "    <tr>\n",
       "      <th>row_name</th>\n",
       "      <th>row_id</th>\n",
       "      <th>date</th>\n",
       "      <th></th>\n",
       "    </tr>\n",
       "  </thead>\n",
       "  <tbody>\n",
       "    <tr>\n",
       "      <th rowspan=\"5\" valign=\"top\">NHS BARNSLEY CCG</th>\n",
       "      <th rowspan=\"5\" valign=\"top\">02P</th>\n",
       "      <th>2016-05-01</th>\n",
       "      <td>4077.60</td>\n",
       "    </tr>\n",
       "    <tr>\n",
       "      <th>2016-06-01</th>\n",
       "      <td>3371.07</td>\n",
       "    </tr>\n",
       "    <tr>\n",
       "      <th>2016-07-01</th>\n",
       "      <td>3168.21</td>\n",
       "    </tr>\n",
       "    <tr>\n",
       "      <th>2016-08-01</th>\n",
       "      <td>2574.71</td>\n",
       "    </tr>\n",
       "    <tr>\n",
       "      <th>2016-09-01</th>\n",
       "      <td>3019.71</td>\n",
       "    </tr>\n",
       "    <tr>\n",
       "      <th>...</th>\n",
       "      <th>...</th>\n",
       "      <th>...</th>\n",
       "      <td>...</td>\n",
       "    </tr>\n",
       "    <tr>\n",
       "      <th rowspan=\"5\" valign=\"top\">NHS WIRRAL CCG</th>\n",
       "      <th rowspan=\"5\" valign=\"top\">12F</th>\n",
       "      <th>2020-12-01</th>\n",
       "      <td>4516.10</td>\n",
       "    </tr>\n",
       "    <tr>\n",
       "      <th>2021-01-01</th>\n",
       "      <td>3984.33</td>\n",
       "    </tr>\n",
       "    <tr>\n",
       "      <th>2021-02-01</th>\n",
       "      <td>3270.02</td>\n",
       "    </tr>\n",
       "    <tr>\n",
       "      <th>2021-03-01</th>\n",
       "      <td>3681.28</td>\n",
       "    </tr>\n",
       "    <tr>\n",
       "      <th>2021-04-01</th>\n",
       "      <td>4233.48</td>\n",
       "    </tr>\n",
       "  </tbody>\n",
       "</table>\n",
       "<p>6382 rows × 1 columns</p>\n",
       "</div>"
      ]
     },
     "metadata": {},
     "execution_count": 16
    }
   ],
   "metadata": {}
  },
  {
   "cell_type": "code",
   "execution_count": 17,
   "source": [
    "#0501030I0 = Doxycycline Hyclate\r\n",
    "\r\n",
    "url_0501030I0 = \"https://openprescribing.net/api/1.0/spending_by_ccg/?code=0501030I0&format=json\"\r\n",
    "response_0501030I0 = urllib.request.urlopen(url_0501030I0)\r\n",
    "data_0501030I0 = json.loads(response_0501030I0.read())\r\n",
    "flat_data_0501030I0 = pd.json_normalize(data_0501030I0)\r\n",
    "flat_data_0501030I0 = flat_data_0501030I0.groupby(['row_name', 'row_id', 'date']).sum()\r\n",
    "flat_data_0501030I0 = flat_data_0501030I0.drop(columns=['items', 'quantity'])\r\n",
    "flat_data_0501030I0.rename(columns={'actual_cost': 'Doxycycline Hyclate'}, inplace=True)\r\n",
    "flat_data_0501030I0"
   ],
   "outputs": [
    {
     "output_type": "execute_result",
     "data": {
      "text/plain": [
       "                                    Doxycycline Hyclate\n",
       "row_name         row_id date                           \n",
       "NHS BARNSLEY CCG 02P    2016-05-01              2185.46\n",
       "                        2016-06-01              2129.81\n",
       "                        2016-07-01              1781.57\n",
       "                        2016-08-01              1839.70\n",
       "                        2016-09-01              1997.36\n",
       "...                                                 ...\n",
       "NHS WIRRAL CCG   12F    2020-12-01              3539.57\n",
       "                        2021-01-01              4467.21\n",
       "                        2021-02-01              3338.46\n",
       "                        2021-03-01              3777.32\n",
       "                        2021-04-01              3562.62\n",
       "\n",
       "[6382 rows x 1 columns]"
      ],
      "text/html": [
       "<div>\n",
       "<style scoped>\n",
       "    .dataframe tbody tr th:only-of-type {\n",
       "        vertical-align: middle;\n",
       "    }\n",
       "\n",
       "    .dataframe tbody tr th {\n",
       "        vertical-align: top;\n",
       "    }\n",
       "\n",
       "    .dataframe thead th {\n",
       "        text-align: right;\n",
       "    }\n",
       "</style>\n",
       "<table border=\"1\" class=\"dataframe\">\n",
       "  <thead>\n",
       "    <tr style=\"text-align: right;\">\n",
       "      <th></th>\n",
       "      <th></th>\n",
       "      <th></th>\n",
       "      <th>Doxycycline Hyclate</th>\n",
       "    </tr>\n",
       "    <tr>\n",
       "      <th>row_name</th>\n",
       "      <th>row_id</th>\n",
       "      <th>date</th>\n",
       "      <th></th>\n",
       "    </tr>\n",
       "  </thead>\n",
       "  <tbody>\n",
       "    <tr>\n",
       "      <th rowspan=\"5\" valign=\"top\">NHS BARNSLEY CCG</th>\n",
       "      <th rowspan=\"5\" valign=\"top\">02P</th>\n",
       "      <th>2016-05-01</th>\n",
       "      <td>2185.46</td>\n",
       "    </tr>\n",
       "    <tr>\n",
       "      <th>2016-06-01</th>\n",
       "      <td>2129.81</td>\n",
       "    </tr>\n",
       "    <tr>\n",
       "      <th>2016-07-01</th>\n",
       "      <td>1781.57</td>\n",
       "    </tr>\n",
       "    <tr>\n",
       "      <th>2016-08-01</th>\n",
       "      <td>1839.70</td>\n",
       "    </tr>\n",
       "    <tr>\n",
       "      <th>2016-09-01</th>\n",
       "      <td>1997.36</td>\n",
       "    </tr>\n",
       "    <tr>\n",
       "      <th>...</th>\n",
       "      <th>...</th>\n",
       "      <th>...</th>\n",
       "      <td>...</td>\n",
       "    </tr>\n",
       "    <tr>\n",
       "      <th rowspan=\"5\" valign=\"top\">NHS WIRRAL CCG</th>\n",
       "      <th rowspan=\"5\" valign=\"top\">12F</th>\n",
       "      <th>2020-12-01</th>\n",
       "      <td>3539.57</td>\n",
       "    </tr>\n",
       "    <tr>\n",
       "      <th>2021-01-01</th>\n",
       "      <td>4467.21</td>\n",
       "    </tr>\n",
       "    <tr>\n",
       "      <th>2021-02-01</th>\n",
       "      <td>3338.46</td>\n",
       "    </tr>\n",
       "    <tr>\n",
       "      <th>2021-03-01</th>\n",
       "      <td>3777.32</td>\n",
       "    </tr>\n",
       "    <tr>\n",
       "      <th>2021-04-01</th>\n",
       "      <td>3562.62</td>\n",
       "    </tr>\n",
       "  </tbody>\n",
       "</table>\n",
       "<p>6382 rows × 1 columns</p>\n",
       "</div>"
      ]
     },
     "metadata": {},
     "execution_count": 17
    }
   ],
   "metadata": {}
  },
  {
   "cell_type": "code",
   "execution_count": 18,
   "source": [
    "#0501021L0 = Cefalexin\r\n",
    "\r\n",
    "url_0501021L0 = \"https://openprescribing.net/api/1.0/spending_by_ccg/?code=0501021L0&format=json\"\r\n",
    "response_0501021L0 = urllib.request.urlopen(url_0501021L0)\r\n",
    "data_0501021L0 = json.loads(response_0501021L0.read())\r\n",
    "flat_data_0501021L0= pd.json_normalize(data_0501021L0)\r\n",
    "flat_data_0501021L0 = flat_data_0501021L0.groupby(['row_name', 'row_id', 'date']).sum()\r\n",
    "flat_data_0501021L0 = flat_data_0501021L0.drop(columns=['items', 'quantity'])\r\n",
    "flat_data_0501021L0.rename(columns={'actual_cost': 'Cefalexin'}, inplace=True)\r\n",
    "flat_data_0501021L0"
   ],
   "outputs": [
    {
     "output_type": "execute_result",
     "data": {
      "text/plain": [
       "                                    Cefalexin\n",
       "row_name         row_id date                 \n",
       "NHS BARNSLEY CCG 02P    2016-05-01     289.58\n",
       "                        2016-06-01     237.11\n",
       "                        2016-07-01     275.00\n",
       "                        2016-08-01     221.24\n",
       "                        2016-09-01     268.23\n",
       "...                                       ...\n",
       "NHS WIRRAL CCG   12F    2020-12-01    1989.70\n",
       "                        2021-01-01    2071.17\n",
       "                        2021-02-01    1874.03\n",
       "                        2021-03-01    2210.04\n",
       "                        2021-04-01    2152.52\n",
       "\n",
       "[6375 rows x 1 columns]"
      ],
      "text/html": [
       "<div>\n",
       "<style scoped>\n",
       "    .dataframe tbody tr th:only-of-type {\n",
       "        vertical-align: middle;\n",
       "    }\n",
       "\n",
       "    .dataframe tbody tr th {\n",
       "        vertical-align: top;\n",
       "    }\n",
       "\n",
       "    .dataframe thead th {\n",
       "        text-align: right;\n",
       "    }\n",
       "</style>\n",
       "<table border=\"1\" class=\"dataframe\">\n",
       "  <thead>\n",
       "    <tr style=\"text-align: right;\">\n",
       "      <th></th>\n",
       "      <th></th>\n",
       "      <th></th>\n",
       "      <th>Cefalexin</th>\n",
       "    </tr>\n",
       "    <tr>\n",
       "      <th>row_name</th>\n",
       "      <th>row_id</th>\n",
       "      <th>date</th>\n",
       "      <th></th>\n",
       "    </tr>\n",
       "  </thead>\n",
       "  <tbody>\n",
       "    <tr>\n",
       "      <th rowspan=\"5\" valign=\"top\">NHS BARNSLEY CCG</th>\n",
       "      <th rowspan=\"5\" valign=\"top\">02P</th>\n",
       "      <th>2016-05-01</th>\n",
       "      <td>289.58</td>\n",
       "    </tr>\n",
       "    <tr>\n",
       "      <th>2016-06-01</th>\n",
       "      <td>237.11</td>\n",
       "    </tr>\n",
       "    <tr>\n",
       "      <th>2016-07-01</th>\n",
       "      <td>275.00</td>\n",
       "    </tr>\n",
       "    <tr>\n",
       "      <th>2016-08-01</th>\n",
       "      <td>221.24</td>\n",
       "    </tr>\n",
       "    <tr>\n",
       "      <th>2016-09-01</th>\n",
       "      <td>268.23</td>\n",
       "    </tr>\n",
       "    <tr>\n",
       "      <th>...</th>\n",
       "      <th>...</th>\n",
       "      <th>...</th>\n",
       "      <td>...</td>\n",
       "    </tr>\n",
       "    <tr>\n",
       "      <th rowspan=\"5\" valign=\"top\">NHS WIRRAL CCG</th>\n",
       "      <th rowspan=\"5\" valign=\"top\">12F</th>\n",
       "      <th>2020-12-01</th>\n",
       "      <td>1989.70</td>\n",
       "    </tr>\n",
       "    <tr>\n",
       "      <th>2021-01-01</th>\n",
       "      <td>2071.17</td>\n",
       "    </tr>\n",
       "    <tr>\n",
       "      <th>2021-02-01</th>\n",
       "      <td>1874.03</td>\n",
       "    </tr>\n",
       "    <tr>\n",
       "      <th>2021-03-01</th>\n",
       "      <td>2210.04</td>\n",
       "    </tr>\n",
       "    <tr>\n",
       "      <th>2021-04-01</th>\n",
       "      <td>2152.52</td>\n",
       "    </tr>\n",
       "  </tbody>\n",
       "</table>\n",
       "<p>6375 rows × 1 columns</p>\n",
       "</div>"
      ]
     },
     "metadata": {},
     "execution_count": 18
    }
   ],
   "metadata": {}
  },
  {
   "cell_type": "code",
   "execution_count": 19,
   "source": [
    "join_1 = flat_data_0501013B0.join(flat_data_0501030I0, lsuffix='row_id', rsuffix='row_id')\r\n",
    "all_antibiotics_merged = join_1.join(flat_data_0501021L0, lsuffix='row_id', rsuffix='row_id')\r\n",
    "all_antibiotics_merged.fillna(0, inplace=True)\r\n",
    "all_antibiotics_merged['Total cost of Amoxicillin, Doxycycline Hyclate, Cefalexin (£)']= all_antibiotics_merged.iloc[:, -3:].sum(axis=1)\r\n",
    "all_antibiotics = all_antibiotics_merged.reset_index()\r\n",
    "all_antibiotics.rename(columns={'row_name': 'Clinical Commissioning Group (CCG)', 'row_id': 'CCG code', 'date': 'Date'}, inplace=True)\r\n",
    "all_antibiotics"
   ],
   "outputs": [
    {
     "output_type": "execute_result",
     "data": {
      "text/plain": [
       "     Clinical Commissioning Group (CCG) CCG code        Date  Amoxicillin  \\\n",
       "0                      NHS BARNSLEY CCG      02P  2016-05-01      4077.60   \n",
       "1                      NHS BARNSLEY CCG      02P  2016-06-01      3371.07   \n",
       "2                      NHS BARNSLEY CCG      02P  2016-07-01      3168.21   \n",
       "3                      NHS BARNSLEY CCG      02P  2016-08-01      2574.71   \n",
       "4                      NHS BARNSLEY CCG      02P  2016-09-01      3019.71   \n",
       "...                                 ...      ...         ...          ...   \n",
       "6377                     NHS WIRRAL CCG      12F  2020-12-01      4516.10   \n",
       "6378                     NHS WIRRAL CCG      12F  2021-01-01      3984.33   \n",
       "6379                     NHS WIRRAL CCG      12F  2021-02-01      3270.02   \n",
       "6380                     NHS WIRRAL CCG      12F  2021-03-01      3681.28   \n",
       "6381                     NHS WIRRAL CCG      12F  2021-04-01      4233.48   \n",
       "\n",
       "      Doxycycline Hyclate  Cefalexin  \\\n",
       "0                 2185.46     289.58   \n",
       "1                 2129.81     237.11   \n",
       "2                 1781.57     275.00   \n",
       "3                 1839.70     221.24   \n",
       "4                 1997.36     268.23   \n",
       "...                   ...        ...   \n",
       "6377              3539.57    1989.70   \n",
       "6378              4467.21    2071.17   \n",
       "6379              3338.46    1874.03   \n",
       "6380              3777.32    2210.04   \n",
       "6381              3562.62    2152.52   \n",
       "\n",
       "      Total cost of Amoxicillin, Doxycycline Hyclate, Cefalexin (£)  \n",
       "0                                               6552.64              \n",
       "1                                               5737.99              \n",
       "2                                               5224.78              \n",
       "3                                               4635.65              \n",
       "4                                               5285.30              \n",
       "...                                                 ...              \n",
       "6377                                           10045.37              \n",
       "6378                                           10522.71              \n",
       "6379                                            8482.51              \n",
       "6380                                            9668.64              \n",
       "6381                                            9948.62              \n",
       "\n",
       "[6382 rows x 7 columns]"
      ],
      "text/html": [
       "<div>\n",
       "<style scoped>\n",
       "    .dataframe tbody tr th:only-of-type {\n",
       "        vertical-align: middle;\n",
       "    }\n",
       "\n",
       "    .dataframe tbody tr th {\n",
       "        vertical-align: top;\n",
       "    }\n",
       "\n",
       "    .dataframe thead th {\n",
       "        text-align: right;\n",
       "    }\n",
       "</style>\n",
       "<table border=\"1\" class=\"dataframe\">\n",
       "  <thead>\n",
       "    <tr style=\"text-align: right;\">\n",
       "      <th></th>\n",
       "      <th>Clinical Commissioning Group (CCG)</th>\n",
       "      <th>CCG code</th>\n",
       "      <th>Date</th>\n",
       "      <th>Amoxicillin</th>\n",
       "      <th>Doxycycline Hyclate</th>\n",
       "      <th>Cefalexin</th>\n",
       "      <th>Total cost of Amoxicillin, Doxycycline Hyclate, Cefalexin (£)</th>\n",
       "    </tr>\n",
       "  </thead>\n",
       "  <tbody>\n",
       "    <tr>\n",
       "      <th>0</th>\n",
       "      <td>NHS BARNSLEY CCG</td>\n",
       "      <td>02P</td>\n",
       "      <td>2016-05-01</td>\n",
       "      <td>4077.60</td>\n",
       "      <td>2185.46</td>\n",
       "      <td>289.58</td>\n",
       "      <td>6552.64</td>\n",
       "    </tr>\n",
       "    <tr>\n",
       "      <th>1</th>\n",
       "      <td>NHS BARNSLEY CCG</td>\n",
       "      <td>02P</td>\n",
       "      <td>2016-06-01</td>\n",
       "      <td>3371.07</td>\n",
       "      <td>2129.81</td>\n",
       "      <td>237.11</td>\n",
       "      <td>5737.99</td>\n",
       "    </tr>\n",
       "    <tr>\n",
       "      <th>2</th>\n",
       "      <td>NHS BARNSLEY CCG</td>\n",
       "      <td>02P</td>\n",
       "      <td>2016-07-01</td>\n",
       "      <td>3168.21</td>\n",
       "      <td>1781.57</td>\n",
       "      <td>275.00</td>\n",
       "      <td>5224.78</td>\n",
       "    </tr>\n",
       "    <tr>\n",
       "      <th>3</th>\n",
       "      <td>NHS BARNSLEY CCG</td>\n",
       "      <td>02P</td>\n",
       "      <td>2016-08-01</td>\n",
       "      <td>2574.71</td>\n",
       "      <td>1839.70</td>\n",
       "      <td>221.24</td>\n",
       "      <td>4635.65</td>\n",
       "    </tr>\n",
       "    <tr>\n",
       "      <th>4</th>\n",
       "      <td>NHS BARNSLEY CCG</td>\n",
       "      <td>02P</td>\n",
       "      <td>2016-09-01</td>\n",
       "      <td>3019.71</td>\n",
       "      <td>1997.36</td>\n",
       "      <td>268.23</td>\n",
       "      <td>5285.30</td>\n",
       "    </tr>\n",
       "    <tr>\n",
       "      <th>...</th>\n",
       "      <td>...</td>\n",
       "      <td>...</td>\n",
       "      <td>...</td>\n",
       "      <td>...</td>\n",
       "      <td>...</td>\n",
       "      <td>...</td>\n",
       "      <td>...</td>\n",
       "    </tr>\n",
       "    <tr>\n",
       "      <th>6377</th>\n",
       "      <td>NHS WIRRAL CCG</td>\n",
       "      <td>12F</td>\n",
       "      <td>2020-12-01</td>\n",
       "      <td>4516.10</td>\n",
       "      <td>3539.57</td>\n",
       "      <td>1989.70</td>\n",
       "      <td>10045.37</td>\n",
       "    </tr>\n",
       "    <tr>\n",
       "      <th>6378</th>\n",
       "      <td>NHS WIRRAL CCG</td>\n",
       "      <td>12F</td>\n",
       "      <td>2021-01-01</td>\n",
       "      <td>3984.33</td>\n",
       "      <td>4467.21</td>\n",
       "      <td>2071.17</td>\n",
       "      <td>10522.71</td>\n",
       "    </tr>\n",
       "    <tr>\n",
       "      <th>6379</th>\n",
       "      <td>NHS WIRRAL CCG</td>\n",
       "      <td>12F</td>\n",
       "      <td>2021-02-01</td>\n",
       "      <td>3270.02</td>\n",
       "      <td>3338.46</td>\n",
       "      <td>1874.03</td>\n",
       "      <td>8482.51</td>\n",
       "    </tr>\n",
       "    <tr>\n",
       "      <th>6380</th>\n",
       "      <td>NHS WIRRAL CCG</td>\n",
       "      <td>12F</td>\n",
       "      <td>2021-03-01</td>\n",
       "      <td>3681.28</td>\n",
       "      <td>3777.32</td>\n",
       "      <td>2210.04</td>\n",
       "      <td>9668.64</td>\n",
       "    </tr>\n",
       "    <tr>\n",
       "      <th>6381</th>\n",
       "      <td>NHS WIRRAL CCG</td>\n",
       "      <td>12F</td>\n",
       "      <td>2021-04-01</td>\n",
       "      <td>4233.48</td>\n",
       "      <td>3562.62</td>\n",
       "      <td>2152.52</td>\n",
       "      <td>9948.62</td>\n",
       "    </tr>\n",
       "  </tbody>\n",
       "</table>\n",
       "<p>6382 rows × 7 columns</p>\n",
       "</div>"
      ]
     },
     "metadata": {},
     "execution_count": 19
    }
   ],
   "metadata": {}
  },
  {
   "cell_type": "code",
   "execution_count": 20,
   "source": [
    "all_antibiotics_plot = all_antibiotics.groupby(['Date']).sum()\r\n",
    "all_antibiotics_plot = all_antibiotics_plot.reset_index()\r\n",
    "all_antibiotics_plot = all_antibiotics_plot.round(1)"
   ],
   "outputs": [],
   "metadata": {}
  },
  {
   "cell_type": "code",
   "execution_count": 21,
   "source": [
    "pd.options.plotting.backend = \"plotly\"\r\n",
    "fig = px.bar(all_antibiotics_plot, x='Date', y= [\"Amoxicillin\", \"Doxycycline Hyclate\", 'Cefalexin'],\r\n",
    "color_discrete_sequence=[\"#003087\", \"#0072CE\", \"#41B6E6\"],\r\n",
    "labels={\"value\": \"Cost (£)\", \"variable\": \"Antibiotic\"},  \r\n",
    "title= \"Total cost of Amoxicillin, Doxycycline Hyclate, and Cefalexin (£) per month\")\r\n",
    "fig.update_layout(\r\n",
    "    {\"plot_bgcolor\": \"rgba(0, 0, 0, 0)\", \"paper_bgcolor\": \"rgba(0, 0, 0, 0)\"},\r\n",
    "    autosize=True,\r\n",
    "    margin=dict(l=50, r=50, b=50, t=50, pad=4, autoexpand=True),\r\n",
    ")\r\n",
    "fig.show()"
   ],
   "outputs": [
    {
     "output_type": "display_data",
     "data": {
      "application/vnd.plotly.v1+json": {
       "config": {
        "plotlyServerURL": "https://plot.ly"
       },
       "data": [
        {
         "alignmentgroup": "True",
         "hovertemplate": "Antibiotic=Amoxicillin<br>Date=%{x}<br>Cost (£)=%{y}<extra></extra>",
         "legendgroup": "Amoxicillin",
         "marker": {
          "color": "#003087",
          "pattern": {
           "shape": ""
          }
         },
         "name": "Amoxicillin",
         "offsetgroup": "Amoxicillin",
         "orientation": "v",
         "showlegend": true,
         "textposition": "auto",
         "type": "bar",
         "x": [
          "2016-05-01",
          "2016-06-01",
          "2016-07-01",
          "2016-08-01",
          "2016-09-01",
          "2016-10-01",
          "2016-11-01",
          "2016-12-01",
          "2017-01-01",
          "2017-02-01",
          "2017-03-01",
          "2017-04-01",
          "2017-05-01",
          "2017-06-01",
          "2017-07-01",
          "2017-08-01",
          "2017-09-01",
          "2017-10-01",
          "2017-11-01",
          "2017-12-01",
          "2018-01-01",
          "2018-02-01",
          "2018-03-01",
          "2018-04-01",
          "2018-05-01",
          "2018-06-01",
          "2018-07-01",
          "2018-08-01",
          "2018-09-01",
          "2018-10-01",
          "2018-11-01",
          "2018-12-01",
          "2019-01-01",
          "2019-02-01",
          "2019-03-01",
          "2019-04-01",
          "2019-05-01",
          "2019-06-01",
          "2019-07-01",
          "2019-08-01",
          "2019-09-01",
          "2019-10-01",
          "2019-11-01",
          "2019-12-01",
          "2020-01-01",
          "2020-02-01",
          "2020-03-01",
          "2020-04-01",
          "2020-05-01",
          "2020-06-01",
          "2020-07-01",
          "2020-08-01",
          "2020-09-01",
          "2020-10-01",
          "2020-11-01",
          "2020-12-01",
          "2021-01-01",
          "2021-02-01",
          "2021-03-01",
          "2021-04-01"
         ],
         "xaxis": "x",
         "y": [
          873742.1,
          723075.3,
          715976.1,
          601629.1,
          674547.1,
          915656.5,
          1086092.7,
          1332072.8,
          1260825.4,
          999002.3,
          951099.4,
          767132.2,
          795452.6,
          649513.7,
          672721.8,
          604891.2,
          687848.5,
          807587.4,
          889468.2,
          1050019.9,
          1120037.9,
          847868.9,
          816426.4,
          555756.3,
          532848.7,
          436885.2,
          452633.5,
          471911.4,
          590391.6,
          800694.9,
          804827.2,
          917046.5,
          994095.7,
          828194.3,
          728051.1,
          701145.4,
          606924.2,
          535428.9,
          560978.6,
          570369.9,
          668519.5,
          1007170.8,
          1123567.1,
          1444710.7,
          1228833,
          1000404.7,
          1027387.5,
          707323,
          449324.6,
          458757.6,
          454349.2,
          433947.4,
          665443.1,
          642079.7,
          578696.8,
          633291.1,
          549621.4,
          443637.9,
          518278.9,
          547597
         ],
         "yaxis": "y"
        },
        {
         "alignmentgroup": "True",
         "hovertemplate": "Antibiotic=Doxycycline Hyclate<br>Date=%{x}<br>Cost (£)=%{y}<extra></extra>",
         "legendgroup": "Doxycycline Hyclate",
         "marker": {
          "color": "#0072CE",
          "pattern": {
           "shape": ""
          }
         },
         "name": "Doxycycline Hyclate",
         "offsetgroup": "Doxycycline Hyclate",
         "orientation": "v",
         "showlegend": true,
         "textposition": "auto",
         "type": "bar",
         "x": [
          "2016-05-01",
          "2016-06-01",
          "2016-07-01",
          "2016-08-01",
          "2016-09-01",
          "2016-10-01",
          "2016-11-01",
          "2016-12-01",
          "2017-01-01",
          "2017-02-01",
          "2017-03-01",
          "2017-04-01",
          "2017-05-01",
          "2017-06-01",
          "2017-07-01",
          "2017-08-01",
          "2017-09-01",
          "2017-10-01",
          "2017-11-01",
          "2017-12-01",
          "2018-01-01",
          "2018-02-01",
          "2018-03-01",
          "2018-04-01",
          "2018-05-01",
          "2018-06-01",
          "2018-07-01",
          "2018-08-01",
          "2018-09-01",
          "2018-10-01",
          "2018-11-01",
          "2018-12-01",
          "2019-01-01",
          "2019-02-01",
          "2019-03-01",
          "2019-04-01",
          "2019-05-01",
          "2019-06-01",
          "2019-07-01",
          "2019-08-01",
          "2019-09-01",
          "2019-10-01",
          "2019-11-01",
          "2019-12-01",
          "2020-01-01",
          "2020-02-01",
          "2020-03-01",
          "2020-04-01",
          "2020-05-01",
          "2020-06-01",
          "2020-07-01",
          "2020-08-01",
          "2020-09-01",
          "2020-10-01",
          "2020-11-01",
          "2020-12-01",
          "2021-01-01",
          "2021-02-01",
          "2021-03-01",
          "2021-04-01"
         ],
         "xaxis": "x",
         "y": [
          347353.1,
          319257.8,
          302165.3,
          288778.1,
          299548.1,
          334579.7,
          371928.5,
          420979.4,
          430970.8,
          362181.5,
          381835.6,
          312668.7,
          334777,
          312937.2,
          302468.4,
          285277.9,
          291412.9,
          331637.6,
          329568.1,
          374173.1,
          389203.7,
          303278.4,
          314176.2,
          217828.1,
          210703.3,
          202228.8,
          219626.1,
          253609.7,
          259341,
          326980.8,
          309904.5,
          332118.2,
          376774.6,
          317184.8,
          315528.8,
          325365,
          323026.3,
          302624.4,
          325541.2,
          365425.4,
          364862.6,
          513368.1,
          508837.1,
          566816.7,
          872039.8,
          713020.6,
          822089.6,
          634715.9,
          513347.9,
          555021,
          540426.6,
          481276.4,
          573924.5,
          535275.1,
          513486.1,
          545920.2,
          571020,
          486421,
          532698.3,
          499766.7
         ],
         "yaxis": "y"
        },
        {
         "alignmentgroup": "True",
         "hovertemplate": "Antibiotic=Cefalexin<br>Date=%{x}<br>Cost (£)=%{y}<extra></extra>",
         "legendgroup": "Cefalexin",
         "marker": {
          "color": "#41B6E6",
          "pattern": {
           "shape": ""
          }
         },
         "name": "Cefalexin",
         "offsetgroup": "Cefalexin",
         "orientation": "v",
         "showlegend": true,
         "textposition": "auto",
         "type": "bar",
         "x": [
          "2016-05-01",
          "2016-06-01",
          "2016-07-01",
          "2016-08-01",
          "2016-09-01",
          "2016-10-01",
          "2016-11-01",
          "2016-12-01",
          "2017-01-01",
          "2017-02-01",
          "2017-03-01",
          "2017-04-01",
          "2017-05-01",
          "2017-06-01",
          "2017-07-01",
          "2017-08-01",
          "2017-09-01",
          "2017-10-01",
          "2017-11-01",
          "2017-12-01",
          "2018-01-01",
          "2018-02-01",
          "2018-03-01",
          "2018-04-01",
          "2018-05-01",
          "2018-06-01",
          "2018-07-01",
          "2018-08-01",
          "2018-09-01",
          "2018-10-01",
          "2018-11-01",
          "2018-12-01",
          "2019-01-01",
          "2019-02-01",
          "2019-03-01",
          "2019-04-01",
          "2019-05-01",
          "2019-06-01",
          "2019-07-01",
          "2019-08-01",
          "2019-09-01",
          "2019-10-01",
          "2019-11-01",
          "2019-12-01",
          "2020-01-01",
          "2020-02-01",
          "2020-03-01",
          "2020-04-01",
          "2020-05-01",
          "2020-06-01",
          "2020-07-01",
          "2020-08-01",
          "2020-09-01",
          "2020-10-01",
          "2020-11-01",
          "2020-12-01",
          "2021-01-01",
          "2021-02-01",
          "2021-03-01",
          "2021-04-01"
         ],
         "xaxis": "x",
         "y": [
          109656.5,
          102510.3,
          102510.5,
          101797.2,
          104026.2,
          101124.5,
          104744.2,
          109233.9,
          104245.9,
          94747.6,
          106471.5,
          87970.8,
          95411.4,
          95998,
          88766.3,
          82844.9,
          81626.8,
          84708.1,
          83039.3,
          83518.3,
          93810.1,
          80593.3,
          87815.4,
          94763.2,
          97459.6,
          94533.9,
          98624,
          117342.1,
          109284.5,
          119199.5,
          107170.4,
          107768.6,
          112153.4,
          96728,
          104498,
          102450.8,
          109002.6,
          102555.8,
          110427.5,
          120345.5,
          112103.1,
          125403.6,
          123112.6,
          127997.2,
          136469.9,
          125714.8,
          141835.7,
          146173.9,
          133044.8,
          150827.9,
          163037.8,
          149225.9,
          169058.1,
          167395.5,
          165046.1,
          176860.9,
          174868.5,
          165681.2,
          184700.4,
          176177.1
         ],
         "yaxis": "y"
        }
       ],
       "layout": {
        "autosize": true,
        "barmode": "relative",
        "legend": {
         "title": {
          "text": "Antibiotic"
         },
         "tracegroupgap": 0
        },
        "margin": {
         "autoexpand": true,
         "b": 50,
         "l": 50,
         "pad": 4,
         "r": 50,
         "t": 50
        },
        "paper_bgcolor": "rgba(0, 0, 0, 0)",
        "plot_bgcolor": "rgba(0, 0, 0, 0)",
        "template": {
         "data": {
          "bar": [
           {
            "error_x": {
             "color": "#2a3f5f"
            },
            "error_y": {
             "color": "#2a3f5f"
            },
            "marker": {
             "line": {
              "color": "#E5ECF6",
              "width": 0.5
             },
             "pattern": {
              "fillmode": "overlay",
              "size": 10,
              "solidity": 0.2
             }
            },
            "type": "bar"
           }
          ],
          "barpolar": [
           {
            "marker": {
             "line": {
              "color": "#E5ECF6",
              "width": 0.5
             },
             "pattern": {
              "fillmode": "overlay",
              "size": 10,
              "solidity": 0.2
             }
            },
            "type": "barpolar"
           }
          ],
          "carpet": [
           {
            "aaxis": {
             "endlinecolor": "#2a3f5f",
             "gridcolor": "white",
             "linecolor": "white",
             "minorgridcolor": "white",
             "startlinecolor": "#2a3f5f"
            },
            "baxis": {
             "endlinecolor": "#2a3f5f",
             "gridcolor": "white",
             "linecolor": "white",
             "minorgridcolor": "white",
             "startlinecolor": "#2a3f5f"
            },
            "type": "carpet"
           }
          ],
          "choropleth": [
           {
            "colorbar": {
             "outlinewidth": 0,
             "ticks": ""
            },
            "type": "choropleth"
           }
          ],
          "contour": [
           {
            "colorbar": {
             "outlinewidth": 0,
             "ticks": ""
            },
            "colorscale": [
             [
              0,
              "#0d0887"
             ],
             [
              0.1111111111111111,
              "#46039f"
             ],
             [
              0.2222222222222222,
              "#7201a8"
             ],
             [
              0.3333333333333333,
              "#9c179e"
             ],
             [
              0.4444444444444444,
              "#bd3786"
             ],
             [
              0.5555555555555556,
              "#d8576b"
             ],
             [
              0.6666666666666666,
              "#ed7953"
             ],
             [
              0.7777777777777778,
              "#fb9f3a"
             ],
             [
              0.8888888888888888,
              "#fdca26"
             ],
             [
              1,
              "#f0f921"
             ]
            ],
            "type": "contour"
           }
          ],
          "contourcarpet": [
           {
            "colorbar": {
             "outlinewidth": 0,
             "ticks": ""
            },
            "type": "contourcarpet"
           }
          ],
          "heatmap": [
           {
            "colorbar": {
             "outlinewidth": 0,
             "ticks": ""
            },
            "colorscale": [
             [
              0,
              "#0d0887"
             ],
             [
              0.1111111111111111,
              "#46039f"
             ],
             [
              0.2222222222222222,
              "#7201a8"
             ],
             [
              0.3333333333333333,
              "#9c179e"
             ],
             [
              0.4444444444444444,
              "#bd3786"
             ],
             [
              0.5555555555555556,
              "#d8576b"
             ],
             [
              0.6666666666666666,
              "#ed7953"
             ],
             [
              0.7777777777777778,
              "#fb9f3a"
             ],
             [
              0.8888888888888888,
              "#fdca26"
             ],
             [
              1,
              "#f0f921"
             ]
            ],
            "type": "heatmap"
           }
          ],
          "heatmapgl": [
           {
            "colorbar": {
             "outlinewidth": 0,
             "ticks": ""
            },
            "colorscale": [
             [
              0,
              "#0d0887"
             ],
             [
              0.1111111111111111,
              "#46039f"
             ],
             [
              0.2222222222222222,
              "#7201a8"
             ],
             [
              0.3333333333333333,
              "#9c179e"
             ],
             [
              0.4444444444444444,
              "#bd3786"
             ],
             [
              0.5555555555555556,
              "#d8576b"
             ],
             [
              0.6666666666666666,
              "#ed7953"
             ],
             [
              0.7777777777777778,
              "#fb9f3a"
             ],
             [
              0.8888888888888888,
              "#fdca26"
             ],
             [
              1,
              "#f0f921"
             ]
            ],
            "type": "heatmapgl"
           }
          ],
          "histogram": [
           {
            "marker": {
             "pattern": {
              "fillmode": "overlay",
              "size": 10,
              "solidity": 0.2
             }
            },
            "type": "histogram"
           }
          ],
          "histogram2d": [
           {
            "colorbar": {
             "outlinewidth": 0,
             "ticks": ""
            },
            "colorscale": [
             [
              0,
              "#0d0887"
             ],
             [
              0.1111111111111111,
              "#46039f"
             ],
             [
              0.2222222222222222,
              "#7201a8"
             ],
             [
              0.3333333333333333,
              "#9c179e"
             ],
             [
              0.4444444444444444,
              "#bd3786"
             ],
             [
              0.5555555555555556,
              "#d8576b"
             ],
             [
              0.6666666666666666,
              "#ed7953"
             ],
             [
              0.7777777777777778,
              "#fb9f3a"
             ],
             [
              0.8888888888888888,
              "#fdca26"
             ],
             [
              1,
              "#f0f921"
             ]
            ],
            "type": "histogram2d"
           }
          ],
          "histogram2dcontour": [
           {
            "colorbar": {
             "outlinewidth": 0,
             "ticks": ""
            },
            "colorscale": [
             [
              0,
              "#0d0887"
             ],
             [
              0.1111111111111111,
              "#46039f"
             ],
             [
              0.2222222222222222,
              "#7201a8"
             ],
             [
              0.3333333333333333,
              "#9c179e"
             ],
             [
              0.4444444444444444,
              "#bd3786"
             ],
             [
              0.5555555555555556,
              "#d8576b"
             ],
             [
              0.6666666666666666,
              "#ed7953"
             ],
             [
              0.7777777777777778,
              "#fb9f3a"
             ],
             [
              0.8888888888888888,
              "#fdca26"
             ],
             [
              1,
              "#f0f921"
             ]
            ],
            "type": "histogram2dcontour"
           }
          ],
          "mesh3d": [
           {
            "colorbar": {
             "outlinewidth": 0,
             "ticks": ""
            },
            "type": "mesh3d"
           }
          ],
          "parcoords": [
           {
            "line": {
             "colorbar": {
              "outlinewidth": 0,
              "ticks": ""
             }
            },
            "type": "parcoords"
           }
          ],
          "pie": [
           {
            "automargin": true,
            "type": "pie"
           }
          ],
          "scatter": [
           {
            "marker": {
             "colorbar": {
              "outlinewidth": 0,
              "ticks": ""
             }
            },
            "type": "scatter"
           }
          ],
          "scatter3d": [
           {
            "line": {
             "colorbar": {
              "outlinewidth": 0,
              "ticks": ""
             }
            },
            "marker": {
             "colorbar": {
              "outlinewidth": 0,
              "ticks": ""
             }
            },
            "type": "scatter3d"
           }
          ],
          "scattercarpet": [
           {
            "marker": {
             "colorbar": {
              "outlinewidth": 0,
              "ticks": ""
             }
            },
            "type": "scattercarpet"
           }
          ],
          "scattergeo": [
           {
            "marker": {
             "colorbar": {
              "outlinewidth": 0,
              "ticks": ""
             }
            },
            "type": "scattergeo"
           }
          ],
          "scattergl": [
           {
            "marker": {
             "colorbar": {
              "outlinewidth": 0,
              "ticks": ""
             }
            },
            "type": "scattergl"
           }
          ],
          "scattermapbox": [
           {
            "marker": {
             "colorbar": {
              "outlinewidth": 0,
              "ticks": ""
             }
            },
            "type": "scattermapbox"
           }
          ],
          "scatterpolar": [
           {
            "marker": {
             "colorbar": {
              "outlinewidth": 0,
              "ticks": ""
             }
            },
            "type": "scatterpolar"
           }
          ],
          "scatterpolargl": [
           {
            "marker": {
             "colorbar": {
              "outlinewidth": 0,
              "ticks": ""
             }
            },
            "type": "scatterpolargl"
           }
          ],
          "scatterternary": [
           {
            "marker": {
             "colorbar": {
              "outlinewidth": 0,
              "ticks": ""
             }
            },
            "type": "scatterternary"
           }
          ],
          "surface": [
           {
            "colorbar": {
             "outlinewidth": 0,
             "ticks": ""
            },
            "colorscale": [
             [
              0,
              "#0d0887"
             ],
             [
              0.1111111111111111,
              "#46039f"
             ],
             [
              0.2222222222222222,
              "#7201a8"
             ],
             [
              0.3333333333333333,
              "#9c179e"
             ],
             [
              0.4444444444444444,
              "#bd3786"
             ],
             [
              0.5555555555555556,
              "#d8576b"
             ],
             [
              0.6666666666666666,
              "#ed7953"
             ],
             [
              0.7777777777777778,
              "#fb9f3a"
             ],
             [
              0.8888888888888888,
              "#fdca26"
             ],
             [
              1,
              "#f0f921"
             ]
            ],
            "type": "surface"
           }
          ],
          "table": [
           {
            "cells": {
             "fill": {
              "color": "#EBF0F8"
             },
             "line": {
              "color": "white"
             }
            },
            "header": {
             "fill": {
              "color": "#C8D4E3"
             },
             "line": {
              "color": "white"
             }
            },
            "type": "table"
           }
          ]
         },
         "layout": {
          "annotationdefaults": {
           "arrowcolor": "#2a3f5f",
           "arrowhead": 0,
           "arrowwidth": 1
          },
          "autotypenumbers": "strict",
          "coloraxis": {
           "colorbar": {
            "outlinewidth": 0,
            "ticks": ""
           }
          },
          "colorscale": {
           "diverging": [
            [
             0,
             "#8e0152"
            ],
            [
             0.1,
             "#c51b7d"
            ],
            [
             0.2,
             "#de77ae"
            ],
            [
             0.3,
             "#f1b6da"
            ],
            [
             0.4,
             "#fde0ef"
            ],
            [
             0.5,
             "#f7f7f7"
            ],
            [
             0.6,
             "#e6f5d0"
            ],
            [
             0.7,
             "#b8e186"
            ],
            [
             0.8,
             "#7fbc41"
            ],
            [
             0.9,
             "#4d9221"
            ],
            [
             1,
             "#276419"
            ]
           ],
           "sequential": [
            [
             0,
             "#0d0887"
            ],
            [
             0.1111111111111111,
             "#46039f"
            ],
            [
             0.2222222222222222,
             "#7201a8"
            ],
            [
             0.3333333333333333,
             "#9c179e"
            ],
            [
             0.4444444444444444,
             "#bd3786"
            ],
            [
             0.5555555555555556,
             "#d8576b"
            ],
            [
             0.6666666666666666,
             "#ed7953"
            ],
            [
             0.7777777777777778,
             "#fb9f3a"
            ],
            [
             0.8888888888888888,
             "#fdca26"
            ],
            [
             1,
             "#f0f921"
            ]
           ],
           "sequentialminus": [
            [
             0,
             "#0d0887"
            ],
            [
             0.1111111111111111,
             "#46039f"
            ],
            [
             0.2222222222222222,
             "#7201a8"
            ],
            [
             0.3333333333333333,
             "#9c179e"
            ],
            [
             0.4444444444444444,
             "#bd3786"
            ],
            [
             0.5555555555555556,
             "#d8576b"
            ],
            [
             0.6666666666666666,
             "#ed7953"
            ],
            [
             0.7777777777777778,
             "#fb9f3a"
            ],
            [
             0.8888888888888888,
             "#fdca26"
            ],
            [
             1,
             "#f0f921"
            ]
           ]
          },
          "colorway": [
           "#636efa",
           "#EF553B",
           "#00cc96",
           "#ab63fa",
           "#FFA15A",
           "#19d3f3",
           "#FF6692",
           "#B6E880",
           "#FF97FF",
           "#FECB52"
          ],
          "font": {
           "color": "#2a3f5f"
          },
          "geo": {
           "bgcolor": "white",
           "lakecolor": "white",
           "landcolor": "#E5ECF6",
           "showlakes": true,
           "showland": true,
           "subunitcolor": "white"
          },
          "hoverlabel": {
           "align": "left"
          },
          "hovermode": "closest",
          "mapbox": {
           "style": "light"
          },
          "paper_bgcolor": "white",
          "plot_bgcolor": "#E5ECF6",
          "polar": {
           "angularaxis": {
            "gridcolor": "white",
            "linecolor": "white",
            "ticks": ""
           },
           "bgcolor": "#E5ECF6",
           "radialaxis": {
            "gridcolor": "white",
            "linecolor": "white",
            "ticks": ""
           }
          },
          "scene": {
           "xaxis": {
            "backgroundcolor": "#E5ECF6",
            "gridcolor": "white",
            "gridwidth": 2,
            "linecolor": "white",
            "showbackground": true,
            "ticks": "",
            "zerolinecolor": "white"
           },
           "yaxis": {
            "backgroundcolor": "#E5ECF6",
            "gridcolor": "white",
            "gridwidth": 2,
            "linecolor": "white",
            "showbackground": true,
            "ticks": "",
            "zerolinecolor": "white"
           },
           "zaxis": {
            "backgroundcolor": "#E5ECF6",
            "gridcolor": "white",
            "gridwidth": 2,
            "linecolor": "white",
            "showbackground": true,
            "ticks": "",
            "zerolinecolor": "white"
           }
          },
          "shapedefaults": {
           "line": {
            "color": "#2a3f5f"
           }
          },
          "ternary": {
           "aaxis": {
            "gridcolor": "white",
            "linecolor": "white",
            "ticks": ""
           },
           "baxis": {
            "gridcolor": "white",
            "linecolor": "white",
            "ticks": ""
           },
           "bgcolor": "#E5ECF6",
           "caxis": {
            "gridcolor": "white",
            "linecolor": "white",
            "ticks": ""
           }
          },
          "title": {
           "x": 0.05
          },
          "xaxis": {
           "automargin": true,
           "gridcolor": "white",
           "linecolor": "white",
           "ticks": "",
           "title": {
            "standoff": 15
           },
           "zerolinecolor": "white",
           "zerolinewidth": 2
          },
          "yaxis": {
           "automargin": true,
           "gridcolor": "white",
           "linecolor": "white",
           "ticks": "",
           "title": {
            "standoff": 15
           },
           "zerolinecolor": "white",
           "zerolinewidth": 2
          }
         }
        },
        "title": {
         "text": "Total cost of Amoxicillin, Doxycycline Hyclate, and Cefalexin (£) per month"
        },
        "xaxis": {
         "anchor": "y",
         "domain": [
          0,
          1
         ],
         "title": {
          "text": "Date"
         }
        },
        "yaxis": {
         "anchor": "x",
         "domain": [
          0,
          1
         ],
         "title": {
          "text": "Cost (£)"
         }
        }
       }
      }
     },
     "metadata": {}
    }
   ],
   "metadata": {}
  },
  {
   "cell_type": "code",
   "execution_count": 22,
   "source": [
    "#CCG pop from NHS digital \r\n",
    "csv_url = \"https://files.digital.nhs.uk/40/2232E5/gp-reg-pat-prac-all.csv\"\r\n",
    "req = requests.get(csv_url)\r\n",
    "url_content = req.content\r\n",
    "csv_file = open('downloaded.csv', 'wb')\r\n",
    "csv_file.write(url_content)\r\n",
    "csv_file.close()\r\n",
    "df1 = pd.read_csv('downloaded.csv')\r\n",
    "CCG_pop = df1.groupby(['CCG_CODE']).sum().reset_index()\r\n",
    "CCG_pop.rename(columns={'CCG_CODE': 'CCG code', 'NUMBER_OF_PATIENTS': 'Number of patients registered at GP practices'}, inplace=True)\r\n",
    "CCG_pop"
   ],
   "outputs": [
    {
     "output_type": "execute_result",
     "data": {
      "text/plain": [
       "    CCG code  Number of patients registered at GP practices\n",
       "0        00L                                         331626\n",
       "1        00N                                         158615\n",
       "2        00P                                         284451\n",
       "3        00Q                                         179871\n",
       "4        00R                                         175261\n",
       "..       ...                                            ...\n",
       "101    D9Y0V                                        1674819\n",
       "102    M1J4Y                                        1056616\n",
       "103    M2L0M                                         513876\n",
       "104    W2U3Z                                        2679014\n",
       "105    X2C4Y                                         447831\n",
       "\n",
       "[106 rows x 2 columns]"
      ],
      "text/html": [
       "<div>\n",
       "<style scoped>\n",
       "    .dataframe tbody tr th:only-of-type {\n",
       "        vertical-align: middle;\n",
       "    }\n",
       "\n",
       "    .dataframe tbody tr th {\n",
       "        vertical-align: top;\n",
       "    }\n",
       "\n",
       "    .dataframe thead th {\n",
       "        text-align: right;\n",
       "    }\n",
       "</style>\n",
       "<table border=\"1\" class=\"dataframe\">\n",
       "  <thead>\n",
       "    <tr style=\"text-align: right;\">\n",
       "      <th></th>\n",
       "      <th>CCG code</th>\n",
       "      <th>Number of patients registered at GP practices</th>\n",
       "    </tr>\n",
       "  </thead>\n",
       "  <tbody>\n",
       "    <tr>\n",
       "      <th>0</th>\n",
       "      <td>00L</td>\n",
       "      <td>331626</td>\n",
       "    </tr>\n",
       "    <tr>\n",
       "      <th>1</th>\n",
       "      <td>00N</td>\n",
       "      <td>158615</td>\n",
       "    </tr>\n",
       "    <tr>\n",
       "      <th>2</th>\n",
       "      <td>00P</td>\n",
       "      <td>284451</td>\n",
       "    </tr>\n",
       "    <tr>\n",
       "      <th>3</th>\n",
       "      <td>00Q</td>\n",
       "      <td>179871</td>\n",
       "    </tr>\n",
       "    <tr>\n",
       "      <th>4</th>\n",
       "      <td>00R</td>\n",
       "      <td>175261</td>\n",
       "    </tr>\n",
       "    <tr>\n",
       "      <th>...</th>\n",
       "      <td>...</td>\n",
       "      <td>...</td>\n",
       "    </tr>\n",
       "    <tr>\n",
       "      <th>101</th>\n",
       "      <td>D9Y0V</td>\n",
       "      <td>1674819</td>\n",
       "    </tr>\n",
       "    <tr>\n",
       "      <th>102</th>\n",
       "      <td>M1J4Y</td>\n",
       "      <td>1056616</td>\n",
       "    </tr>\n",
       "    <tr>\n",
       "      <th>103</th>\n",
       "      <td>M2L0M</td>\n",
       "      <td>513876</td>\n",
       "    </tr>\n",
       "    <tr>\n",
       "      <th>104</th>\n",
       "      <td>W2U3Z</td>\n",
       "      <td>2679014</td>\n",
       "    </tr>\n",
       "    <tr>\n",
       "      <th>105</th>\n",
       "      <td>X2C4Y</td>\n",
       "      <td>447831</td>\n",
       "    </tr>\n",
       "  </tbody>\n",
       "</table>\n",
       "<p>106 rows × 2 columns</p>\n",
       "</div>"
      ]
     },
     "metadata": {},
     "execution_count": 22
    }
   ],
   "metadata": {}
  },
  {
   "cell_type": "code",
   "execution_count": 23,
   "source": [
    "current_year = datetime.now().year\r\n",
    "current_year_str = str(current_year)"
   ],
   "outputs": [],
   "metadata": {}
  },
  {
   "cell_type": "code",
   "execution_count": 24,
   "source": [
    "all_antibiotics[\"Date\"] = pd.to_datetime(all_antibiotics[\"Date\"]).apply(lambda x: x.strftime(\"%Y\"))\r\n",
    "all_antibiotics_current_year = all_antibiotics.loc[all_antibiotics['Date'] == current_year_str]\r\n",
    "df1 = all_antibiotics_current_year.groupby([\"CCG code\", \"Clinical Commissioning Group (CCG)\"]).sum()\r\n",
    "df2 = df1.drop(columns=['Amoxicillin', 'Doxycycline Hyclate', 'Cefalexin'])\r\n",
    "df3 = df2.reset_index()\r\n",
    "df4 = df3.join(CCG_pop, rsuffix='CCG code')\r\n",
    "df5 = df4.drop(columns=['CCG codeCCG code'])\r\n",
    "df5[\"Total cost of Amoxicillin, Doxycycline Hyclate, Cefalexin (£) per 1000 GP registered patients\"] = df5[\"Total cost of Amoxicillin, Doxycycline Hyclate, Cefalexin (£)\"]/(df5[\"Number of patients registered at GP practices\"]/1000)\r\n",
    "df5.round(2)\r\n",
    "df6 = df5.sort_values(by='Total cost of Amoxicillin, Doxycycline Hyclate, Cefalexin (£) per 1000 GP registered patients' , ascending=True)\r\n",
    "df6"
   ],
   "outputs": [
    {
     "output_type": "execute_result",
     "data": {
      "text/plain": [
       "    CCG code Clinical Commissioning Group (CCG)  \\\n",
       "57       09D          NHS BRIGHTON AND HOVE CCG   \n",
       "90       93C       NHS NORTH CENTRAL LONDON CCG   \n",
       "58       10Q                NHS OXFORDSHIRE CCG   \n",
       "104    W2U3Z          NHS NORTH WEST LONDON CCG   \n",
       "84       72Q          NHS SOUTH EAST LONDON CCG   \n",
       "..       ...                                ...   \n",
       "20       01X                  NHS ST HELENS CCG   \n",
       "4        00R                  NHS BLACKPOOL CCG   \n",
       "64       12F                     NHS WIRRAL CCG   \n",
       "86       84H              NHS COUNTY DURHAM CCG   \n",
       "17       01T               NHS SOUTH SEFTON CCG   \n",
       "\n",
       "     Total cost of Amoxicillin, Doxycycline Hyclate, Cefalexin (£)  \\\n",
       "57                                            17608.67               \n",
       "90                                            98591.22               \n",
       "58                                            45532.71               \n",
       "104                                          156431.65               \n",
       "84                                           120875.23               \n",
       "..                                                 ...               \n",
       "20                                            21991.68               \n",
       "4                                             19465.46               \n",
       "64                                            38622.48               \n",
       "86                                            63840.93               \n",
       "17                                            19713.91               \n",
       "\n",
       "     Number of patients registered at GP practices  \\\n",
       "57                                          324743   \n",
       "90                                         1704940   \n",
       "58                                          781104   \n",
       "104                                        2679014   \n",
       "84                                         2024342   \n",
       "..                                             ...   \n",
       "20                                          199670   \n",
       "4                                           175261   \n",
       "64                                          338526   \n",
       "86                                          558062   \n",
       "17                                          156774   \n",
       "\n",
       "     Total cost of Amoxicillin, Doxycycline Hyclate, Cefalexin (£) per 1000 GP registered patients  \n",
       "57                                           54.223401                                              \n",
       "90                                           57.826797                                              \n",
       "58                                           58.292763                                              \n",
       "104                                          58.391502                                              \n",
       "84                                           59.710874                                              \n",
       "..                                                 ...                                              \n",
       "20                                          110.140131                                              \n",
       "4                                           111.065554                                              \n",
       "64                                          114.090144                                              \n",
       "86                                          114.397558                                              \n",
       "17                                          125.747318                                              \n",
       "\n",
       "[106 rows x 5 columns]"
      ],
      "text/html": [
       "<div>\n",
       "<style scoped>\n",
       "    .dataframe tbody tr th:only-of-type {\n",
       "        vertical-align: middle;\n",
       "    }\n",
       "\n",
       "    .dataframe tbody tr th {\n",
       "        vertical-align: top;\n",
       "    }\n",
       "\n",
       "    .dataframe thead th {\n",
       "        text-align: right;\n",
       "    }\n",
       "</style>\n",
       "<table border=\"1\" class=\"dataframe\">\n",
       "  <thead>\n",
       "    <tr style=\"text-align: right;\">\n",
       "      <th></th>\n",
       "      <th>CCG code</th>\n",
       "      <th>Clinical Commissioning Group (CCG)</th>\n",
       "      <th>Total cost of Amoxicillin, Doxycycline Hyclate, Cefalexin (£)</th>\n",
       "      <th>Number of patients registered at GP practices</th>\n",
       "      <th>Total cost of Amoxicillin, Doxycycline Hyclate, Cefalexin (£) per 1000 GP registered patients</th>\n",
       "    </tr>\n",
       "  </thead>\n",
       "  <tbody>\n",
       "    <tr>\n",
       "      <th>57</th>\n",
       "      <td>09D</td>\n",
       "      <td>NHS BRIGHTON AND HOVE CCG</td>\n",
       "      <td>17608.67</td>\n",
       "      <td>324743</td>\n",
       "      <td>54.223401</td>\n",
       "    </tr>\n",
       "    <tr>\n",
       "      <th>90</th>\n",
       "      <td>93C</td>\n",
       "      <td>NHS NORTH CENTRAL LONDON CCG</td>\n",
       "      <td>98591.22</td>\n",
       "      <td>1704940</td>\n",
       "      <td>57.826797</td>\n",
       "    </tr>\n",
       "    <tr>\n",
       "      <th>58</th>\n",
       "      <td>10Q</td>\n",
       "      <td>NHS OXFORDSHIRE CCG</td>\n",
       "      <td>45532.71</td>\n",
       "      <td>781104</td>\n",
       "      <td>58.292763</td>\n",
       "    </tr>\n",
       "    <tr>\n",
       "      <th>104</th>\n",
       "      <td>W2U3Z</td>\n",
       "      <td>NHS NORTH WEST LONDON CCG</td>\n",
       "      <td>156431.65</td>\n",
       "      <td>2679014</td>\n",
       "      <td>58.391502</td>\n",
       "    </tr>\n",
       "    <tr>\n",
       "      <th>84</th>\n",
       "      <td>72Q</td>\n",
       "      <td>NHS SOUTH EAST LONDON CCG</td>\n",
       "      <td>120875.23</td>\n",
       "      <td>2024342</td>\n",
       "      <td>59.710874</td>\n",
       "    </tr>\n",
       "    <tr>\n",
       "      <th>...</th>\n",
       "      <td>...</td>\n",
       "      <td>...</td>\n",
       "      <td>...</td>\n",
       "      <td>...</td>\n",
       "      <td>...</td>\n",
       "    </tr>\n",
       "    <tr>\n",
       "      <th>20</th>\n",
       "      <td>01X</td>\n",
       "      <td>NHS ST HELENS CCG</td>\n",
       "      <td>21991.68</td>\n",
       "      <td>199670</td>\n",
       "      <td>110.140131</td>\n",
       "    </tr>\n",
       "    <tr>\n",
       "      <th>4</th>\n",
       "      <td>00R</td>\n",
       "      <td>NHS BLACKPOOL CCG</td>\n",
       "      <td>19465.46</td>\n",
       "      <td>175261</td>\n",
       "      <td>111.065554</td>\n",
       "    </tr>\n",
       "    <tr>\n",
       "      <th>64</th>\n",
       "      <td>12F</td>\n",
       "      <td>NHS WIRRAL CCG</td>\n",
       "      <td>38622.48</td>\n",
       "      <td>338526</td>\n",
       "      <td>114.090144</td>\n",
       "    </tr>\n",
       "    <tr>\n",
       "      <th>86</th>\n",
       "      <td>84H</td>\n",
       "      <td>NHS COUNTY DURHAM CCG</td>\n",
       "      <td>63840.93</td>\n",
       "      <td>558062</td>\n",
       "      <td>114.397558</td>\n",
       "    </tr>\n",
       "    <tr>\n",
       "      <th>17</th>\n",
       "      <td>01T</td>\n",
       "      <td>NHS SOUTH SEFTON CCG</td>\n",
       "      <td>19713.91</td>\n",
       "      <td>156774</td>\n",
       "      <td>125.747318</td>\n",
       "    </tr>\n",
       "  </tbody>\n",
       "</table>\n",
       "<p>106 rows × 5 columns</p>\n",
       "</div>"
      ]
     },
     "metadata": {},
     "execution_count": 24
    }
   ],
   "metadata": {}
  },
  {
   "cell_type": "code",
   "execution_count": 28,
   "source": [
    "pd.options.plotting.backend = \"plotly\"\r\n",
    "fig_2 = px.bar(df6, x='Clinical Commissioning Group (CCG)', y= \"Total cost of Amoxicillin, Doxycycline Hyclate, Cefalexin (£) per 1000 GP registered patients\",\r\n",
    "title= \"Total cost of Amoxicillin, Doxycycline Hyclate, and Cefalexin (£) per 1000 GP registered patients in %s\" %current_year_str, \r\n",
    "color=\"Total cost of Amoxicillin, Doxycycline Hyclate, Cefalexin (£) per 1000 GP registered patients\",\r\n",
    "color_continuous_scale=px.colors.sequential.ice,\r\n",
    "hover_data={\"Total cost of Amoxicillin, Doxycycline Hyclate, Cefalexin (£) per 1000 GP registered patients\":':.2f'})\r\n",
    "\r\n",
    "fig_2.update_layout(\r\n",
    "    {\"plot_bgcolor\": \"rgba(0, 0, 0, 0)\", \"paper_bgcolor\": \"rgba(0, 0, 0, 0)\"},\r\n",
    "    autosize=True,\r\n",
    "    margin=dict(l=50, r=50, b=50, t=50, pad=4, autoexpand=True),\r\n",
    ")\r\n",
    "fig_2.show()"
   ],
   "outputs": [
    {
     "output_type": "display_data",
     "data": {
      "application/vnd.plotly.v1+json": {
       "config": {
        "plotlyServerURL": "https://plot.ly"
       },
       "data": [
        {
         "alignmentgroup": "True",
         "hovertemplate": "Clinical Commissioning Group (CCG)=%{x}<br>Total cost of Amoxicillin, Doxycycline Hyclate, Cefalexin (£) per 1000 GP registered patients=%{marker.color:.2f}<extra></extra>",
         "legendgroup": "",
         "marker": {
          "color": [
           54.223401274238405,
           57.826797423956265,
           58.29276255146561,
           58.391501500178805,
           59.71087395311662,
           59.787841466731535,
           63.132160696919286,
           63.42266634770478,
           63.5301279643198,
           65.75320034882421,
           66.68621334524558,
           67.66484778390057,
           68.33743670819956,
           69.34339655414298,
           71.55706654801884,
           73.37453371468406,
           73.46478518674138,
           73.68833750150164,
           73.927852425504,
           74.85117532225249,
           75.03175789193259,
           75.42173898161987,
           75.92441676191208,
           76.677635707776,
           77.3082085792971,
           77.35032091842152,
           77.43585780525503,
           77.91626611860642,
           78.08155128838098,
           78.1378944594291,
           78.66344356115125,
           78.69525194912092,
           78.81518298923504,
           79.5748748640145,
           80.0635705324685,
           80.34032334240297,
           80.89442529698688,
           80.94261367920971,
           81.06077472740088,
           81.41214250055094,
           81.7035767038565,
           81.80979838470803,
           81.81083403489808,
           81.92722877032621,
           82.50052001812342,
           82.69190664048244,
           83.09488427705183,
           83.30304726294105,
           83.49422912601548,
           83.8023569023569,
           84.12729803647423,
           84.21141263634138,
           85.03865979381443,
           85.61281144794056,
           86.07460375644905,
           86.14963078004175,
           86.38433126460464,
           86.64752758479773,
           86.916096060221,
           87.00300572343536,
           87.05200904345267,
           87.47615789691918,
           87.63745387946456,
           88.08946493558825,
           88.57616463581205,
           88.98359465422173,
           89.76890311707601,
           89.87220323718648,
           90.03715959774364,
           90.53283473345097,
           90.61432915811886,
           91.28614822162251,
           91.49437168048881,
           91.76080259566842,
           91.78925563131014,
           91.97923040103224,
           92.03072188490067,
           92.1886113106482,
           92.62919526297685,
           93.14623589495687,
           94.83657897733745,
           95.04176726304063,
           95.37381747404545,
           97.1874524697304,
           97.49275890868944,
           97.87647214503109,
           98.25191631536731,
           98.78928180952079,
           99.88086404853642,
           100.94607852710303,
           101.14272547414923,
           102.29638933655964,
           104.80534627872521,
           105.10038934838119,
           105.25983622074168,
           105.82174427738502,
           106.09798438463407,
           106.33128759405253,
           108.244159559252,
           109.15907348431234,
           109.49169897309933,
           110.14013121650724,
           111.06555365996998,
           114.09014374080571,
           114.39755797742903,
           125.74731779504255
          ],
          "coloraxis": "coloraxis",
          "pattern": {
           "shape": ""
          }
         },
         "name": "",
         "offsetgroup": "",
         "orientation": "v",
         "showlegend": false,
         "textposition": "auto",
         "type": "bar",
         "x": [
          "NHS BRIGHTON AND HOVE CCG",
          "NHS NORTH CENTRAL LONDON CCG",
          "NHS OXFORDSHIRE CCG",
          "NHS NORTH WEST LONDON CCG",
          "NHS SOUTH EAST LONDON CCG",
          "NHS BRISTOL, NORTH SOMERSET AND SOUTH GLOUCESTERSHIRE CCG",
          "NHS BERKSHIRE WEST CCG",
          "NHS LEICESTER CITY CCG",
          "NHS SOUTH WEST LONDON CCG",
          "NHS NORTH EAST LONDON CCG",
          "NHS BEDFORDSHIRE, LUTON AND MILTON KEYNES CCG",
          "NHS GLOUCESTERSHIRE CCG",
          "NHS BUCKINGHAMSHIRE CCG",
          "NHS LEEDS CCG",
          "NHS FRIMLEY CCG",
          "NHS WEST LEICESTERSHIRE CCG",
          "NHS NOTTINGHAM AND NOTTINGHAMSHIRE CCG",
          "NHS VALE OF YORK CCG",
          "NHS COVENTRY AND WARWICKSHIRE CCG",
          "NHS BATH AND NORTH EAST SOMERSET, SWINDON AND WILTSHIRE CCG",
          "NHS SURREY HEARTLANDS CCG",
          "NHS EAST AND NORTH HERTFORDSHIRE CCG",
          "NHS IPSWICH AND EAST SUFFOLK CCG",
          "NHS THURROCK CCG",
          "NHS HERTS VALLEYS CCG",
          "NHS KERNOW CCG",
          "NHS ROTHERHAM CCG",
          "NHS BASSETLAW CCG",
          "NHS BRADFORD DISTRICT AND CRAVEN CCG",
          "NHS EAST RIDING OF YORKSHIRE CCG",
          "NHS SHEFFIELD CCG",
          "NHS WEST SUSSEX CCG",
          "NHS MID ESSEX CCG",
          "NHS EAST LEICESTERSHIRE AND RUTLAND CCG",
          "NHS BIRMINGHAM AND SOLIHULL CCG",
          "NHS HAMPSHIRE, SOUTHAMPTON AND ISLE OF WIGHT CCG",
          "NHS WARRINGTON CCG",
          "NHS CASTLE POINT AND ROCHFORD CCG",
          "NHS DEVON CCG",
          "NHS CALDERDALE CCG",
          "NHS SOMERSET CCG",
          "NHS HULL CCG",
          "NHS BLACK COUNTRY AND WEST BIRMINGHAM CCG",
          "NHS NORTHAMPTONSHIRE CCG",
          "NHS KENT AND MEDWAY CCG",
          "NHS PORTSMOUTH CCG",
          "NHS MORECAMBE BAY CCG",
          "NHS TAMESIDE AND GLOSSOP CCG",
          "NHS EAST LANCASHIRE CCG",
          "NHS BURY CCG",
          "NHS DONCASTER CCG",
          "NHS DORSET CCG",
          "NHS SOUTHEND CCG",
          "NHS OLDHAM CCG",
          "NHS NORTH LINCOLNSHIRE CCG",
          "NHS MANCHESTER CCG",
          "NHS STOCKPORT CCG",
          "NHS EAST STAFFORDSHIRE CCG",
          "NHS NORTH YORKSHIRE CCG",
          "NHS CHESHIRE CCG",
          "NHS GREATER PRESTON CCG",
          "NHS WAKEFIELD CCG",
          "NHS CHORLEY AND SOUTH RIBBLE CCG",
          "NHS BOLTON CCG",
          "NHS STOKE ON TRENT CCG",
          "NHS WEST ESSEX CCG",
          "NHS WEST SUFFOLK CCG",
          "NHS NORTH EAST ESSEX CCG",
          "NHS CAMBRIDGESHIRE AND PETERBOROUGH CCG",
          "NHS WEST LANCASHIRE CCG",
          "NHS BLACKBURN WITH DARWEN CCG",
          "NHS HEREFORDSHIRE AND WORCESTERSHIRE CCG",
          "NHS DERBY AND DERBYSHIRE CCG",
          "NHS NORTH EAST LINCOLNSHIRE CCG",
          "NHS NEWCASTLE GATESHEAD CCG",
          "NHS HEYWOOD, MIDDLETON AND ROCHDALE CCG",
          "NHS BARNSLEY CCG",
          "NHS EAST SUSSEX CCG",
          "NHS TRAFFORD CCG",
          "NHS NORTH TYNESIDE CCG",
          "NHS KIRKLEES CCG",
          "NHS BASILDON AND BRENTWOOD CCG",
          "NHS SALFORD CCG",
          "NHS NORTH STAFFORDSHIRE CCG",
          "NHS LINCOLNSHIRE CCG",
          "NHS SHROPSHIRE, TELFORD AND WREKIN CCG",
          "NHS NORTHUMBERLAND CCG",
          "NHS SUNDERLAND CCG",
          "NHS WIGAN BOROUGH CCG",
          "NHS NORFOLK AND WAVENEY CCG",
          "NHS SOUTHPORT AND FORMBY CCG",
          "NHS SOUTH EAST STAFFORDSHIRE AND SEISDON PENINSULA CCG",
          "NHS SOUTH TYNESIDE CCG",
          "NHS HALTON CCG",
          "NHS NORTH CUMBRIA CCG",
          "NHS FYLDE AND WYRE CCG",
          "NHS TEES VALLEY CCG",
          "NHS LIVERPOOL CCG",
          "NHS STAFFORD AND SURROUNDS CCG",
          "NHS CANNOCK CHASE CCG",
          "NHS KNOWSLEY CCG",
          "NHS ST HELENS CCG",
          "NHS BLACKPOOL CCG",
          "NHS WIRRAL CCG",
          "NHS COUNTY DURHAM CCG",
          "NHS SOUTH SEFTON CCG"
         ],
         "xaxis": "x",
         "y": [
          54.223401274238405,
          57.826797423956265,
          58.29276255146561,
          58.391501500178805,
          59.71087395311662,
          59.787841466731535,
          63.132160696919286,
          63.42266634770478,
          63.5301279643198,
          65.75320034882421,
          66.68621334524558,
          67.66484778390057,
          68.33743670819956,
          69.34339655414298,
          71.55706654801884,
          73.37453371468406,
          73.46478518674138,
          73.68833750150164,
          73.927852425504,
          74.85117532225249,
          75.03175789193259,
          75.42173898161987,
          75.92441676191208,
          76.677635707776,
          77.3082085792971,
          77.35032091842152,
          77.43585780525503,
          77.91626611860642,
          78.08155128838098,
          78.1378944594291,
          78.66344356115125,
          78.69525194912092,
          78.81518298923504,
          79.5748748640145,
          80.0635705324685,
          80.34032334240297,
          80.89442529698688,
          80.94261367920971,
          81.06077472740088,
          81.41214250055094,
          81.7035767038565,
          81.80979838470803,
          81.81083403489808,
          81.92722877032621,
          82.50052001812342,
          82.69190664048244,
          83.09488427705183,
          83.30304726294105,
          83.49422912601548,
          83.8023569023569,
          84.12729803647423,
          84.21141263634138,
          85.03865979381443,
          85.61281144794056,
          86.07460375644905,
          86.14963078004175,
          86.38433126460464,
          86.64752758479773,
          86.916096060221,
          87.00300572343536,
          87.05200904345267,
          87.47615789691918,
          87.63745387946456,
          88.08946493558825,
          88.57616463581205,
          88.98359465422173,
          89.76890311707601,
          89.87220323718648,
          90.03715959774364,
          90.53283473345097,
          90.61432915811886,
          91.28614822162251,
          91.49437168048881,
          91.76080259566842,
          91.78925563131014,
          91.97923040103224,
          92.03072188490067,
          92.1886113106482,
          92.62919526297685,
          93.14623589495687,
          94.83657897733745,
          95.04176726304063,
          95.37381747404545,
          97.1874524697304,
          97.49275890868944,
          97.87647214503109,
          98.25191631536731,
          98.78928180952079,
          99.88086404853642,
          100.94607852710303,
          101.14272547414923,
          102.29638933655964,
          104.80534627872521,
          105.10038934838119,
          105.25983622074168,
          105.82174427738502,
          106.09798438463407,
          106.33128759405253,
          108.244159559252,
          109.15907348431234,
          109.49169897309933,
          110.14013121650724,
          111.06555365996998,
          114.09014374080571,
          114.39755797742903,
          125.74731779504255
         ],
         "yaxis": "y"
        }
       ],
       "layout": {
        "autosize": true,
        "barmode": "relative",
        "coloraxis": {
         "colorbar": {
          "title": {
           "text": "Total cost of Amoxicillin, Doxycycline Hyclate, Cefalexin (£) per 1000 GP registered patients"
          }
         },
         "colorscale": [
          [
           0,
           "rgb(3, 5, 18)"
          ],
          [
           0.09090909090909091,
           "rgb(25, 25, 51)"
          ],
          [
           0.18181818181818182,
           "rgb(44, 42, 87)"
          ],
          [
           0.2727272727272727,
           "rgb(58, 60, 125)"
          ],
          [
           0.36363636363636365,
           "rgb(62, 83, 160)"
          ],
          [
           0.45454545454545453,
           "rgb(62, 109, 178)"
          ],
          [
           0.5454545454545454,
           "rgb(72, 134, 187)"
          ],
          [
           0.6363636363636364,
           "rgb(89, 159, 196)"
          ],
          [
           0.7272727272727273,
           "rgb(114, 184, 205)"
          ],
          [
           0.8181818181818182,
           "rgb(149, 207, 216)"
          ],
          [
           0.9090909090909091,
           "rgb(192, 229, 232)"
          ],
          [
           1,
           "rgb(234, 252, 253)"
          ]
         ]
        },
        "legend": {
         "tracegroupgap": 0
        },
        "margin": {
         "autoexpand": true,
         "b": 50,
         "l": 50,
         "pad": 4,
         "r": 50,
         "t": 50
        },
        "paper_bgcolor": "rgba(0, 0, 0, 0)",
        "plot_bgcolor": "rgba(0, 0, 0, 0)",
        "template": {
         "data": {
          "bar": [
           {
            "error_x": {
             "color": "#2a3f5f"
            },
            "error_y": {
             "color": "#2a3f5f"
            },
            "marker": {
             "line": {
              "color": "#E5ECF6",
              "width": 0.5
             },
             "pattern": {
              "fillmode": "overlay",
              "size": 10,
              "solidity": 0.2
             }
            },
            "type": "bar"
           }
          ],
          "barpolar": [
           {
            "marker": {
             "line": {
              "color": "#E5ECF6",
              "width": 0.5
             },
             "pattern": {
              "fillmode": "overlay",
              "size": 10,
              "solidity": 0.2
             }
            },
            "type": "barpolar"
           }
          ],
          "carpet": [
           {
            "aaxis": {
             "endlinecolor": "#2a3f5f",
             "gridcolor": "white",
             "linecolor": "white",
             "minorgridcolor": "white",
             "startlinecolor": "#2a3f5f"
            },
            "baxis": {
             "endlinecolor": "#2a3f5f",
             "gridcolor": "white",
             "linecolor": "white",
             "minorgridcolor": "white",
             "startlinecolor": "#2a3f5f"
            },
            "type": "carpet"
           }
          ],
          "choropleth": [
           {
            "colorbar": {
             "outlinewidth": 0,
             "ticks": ""
            },
            "type": "choropleth"
           }
          ],
          "contour": [
           {
            "colorbar": {
             "outlinewidth": 0,
             "ticks": ""
            },
            "colorscale": [
             [
              0,
              "#0d0887"
             ],
             [
              0.1111111111111111,
              "#46039f"
             ],
             [
              0.2222222222222222,
              "#7201a8"
             ],
             [
              0.3333333333333333,
              "#9c179e"
             ],
             [
              0.4444444444444444,
              "#bd3786"
             ],
             [
              0.5555555555555556,
              "#d8576b"
             ],
             [
              0.6666666666666666,
              "#ed7953"
             ],
             [
              0.7777777777777778,
              "#fb9f3a"
             ],
             [
              0.8888888888888888,
              "#fdca26"
             ],
             [
              1,
              "#f0f921"
             ]
            ],
            "type": "contour"
           }
          ],
          "contourcarpet": [
           {
            "colorbar": {
             "outlinewidth": 0,
             "ticks": ""
            },
            "type": "contourcarpet"
           }
          ],
          "heatmap": [
           {
            "colorbar": {
             "outlinewidth": 0,
             "ticks": ""
            },
            "colorscale": [
             [
              0,
              "#0d0887"
             ],
             [
              0.1111111111111111,
              "#46039f"
             ],
             [
              0.2222222222222222,
              "#7201a8"
             ],
             [
              0.3333333333333333,
              "#9c179e"
             ],
             [
              0.4444444444444444,
              "#bd3786"
             ],
             [
              0.5555555555555556,
              "#d8576b"
             ],
             [
              0.6666666666666666,
              "#ed7953"
             ],
             [
              0.7777777777777778,
              "#fb9f3a"
             ],
             [
              0.8888888888888888,
              "#fdca26"
             ],
             [
              1,
              "#f0f921"
             ]
            ],
            "type": "heatmap"
           }
          ],
          "heatmapgl": [
           {
            "colorbar": {
             "outlinewidth": 0,
             "ticks": ""
            },
            "colorscale": [
             [
              0,
              "#0d0887"
             ],
             [
              0.1111111111111111,
              "#46039f"
             ],
             [
              0.2222222222222222,
              "#7201a8"
             ],
             [
              0.3333333333333333,
              "#9c179e"
             ],
             [
              0.4444444444444444,
              "#bd3786"
             ],
             [
              0.5555555555555556,
              "#d8576b"
             ],
             [
              0.6666666666666666,
              "#ed7953"
             ],
             [
              0.7777777777777778,
              "#fb9f3a"
             ],
             [
              0.8888888888888888,
              "#fdca26"
             ],
             [
              1,
              "#f0f921"
             ]
            ],
            "type": "heatmapgl"
           }
          ],
          "histogram": [
           {
            "marker": {
             "pattern": {
              "fillmode": "overlay",
              "size": 10,
              "solidity": 0.2
             }
            },
            "type": "histogram"
           }
          ],
          "histogram2d": [
           {
            "colorbar": {
             "outlinewidth": 0,
             "ticks": ""
            },
            "colorscale": [
             [
              0,
              "#0d0887"
             ],
             [
              0.1111111111111111,
              "#46039f"
             ],
             [
              0.2222222222222222,
              "#7201a8"
             ],
             [
              0.3333333333333333,
              "#9c179e"
             ],
             [
              0.4444444444444444,
              "#bd3786"
             ],
             [
              0.5555555555555556,
              "#d8576b"
             ],
             [
              0.6666666666666666,
              "#ed7953"
             ],
             [
              0.7777777777777778,
              "#fb9f3a"
             ],
             [
              0.8888888888888888,
              "#fdca26"
             ],
             [
              1,
              "#f0f921"
             ]
            ],
            "type": "histogram2d"
           }
          ],
          "histogram2dcontour": [
           {
            "colorbar": {
             "outlinewidth": 0,
             "ticks": ""
            },
            "colorscale": [
             [
              0,
              "#0d0887"
             ],
             [
              0.1111111111111111,
              "#46039f"
             ],
             [
              0.2222222222222222,
              "#7201a8"
             ],
             [
              0.3333333333333333,
              "#9c179e"
             ],
             [
              0.4444444444444444,
              "#bd3786"
             ],
             [
              0.5555555555555556,
              "#d8576b"
             ],
             [
              0.6666666666666666,
              "#ed7953"
             ],
             [
              0.7777777777777778,
              "#fb9f3a"
             ],
             [
              0.8888888888888888,
              "#fdca26"
             ],
             [
              1,
              "#f0f921"
             ]
            ],
            "type": "histogram2dcontour"
           }
          ],
          "mesh3d": [
           {
            "colorbar": {
             "outlinewidth": 0,
             "ticks": ""
            },
            "type": "mesh3d"
           }
          ],
          "parcoords": [
           {
            "line": {
             "colorbar": {
              "outlinewidth": 0,
              "ticks": ""
             }
            },
            "type": "parcoords"
           }
          ],
          "pie": [
           {
            "automargin": true,
            "type": "pie"
           }
          ],
          "scatter": [
           {
            "marker": {
             "colorbar": {
              "outlinewidth": 0,
              "ticks": ""
             }
            },
            "type": "scatter"
           }
          ],
          "scatter3d": [
           {
            "line": {
             "colorbar": {
              "outlinewidth": 0,
              "ticks": ""
             }
            },
            "marker": {
             "colorbar": {
              "outlinewidth": 0,
              "ticks": ""
             }
            },
            "type": "scatter3d"
           }
          ],
          "scattercarpet": [
           {
            "marker": {
             "colorbar": {
              "outlinewidth": 0,
              "ticks": ""
             }
            },
            "type": "scattercarpet"
           }
          ],
          "scattergeo": [
           {
            "marker": {
             "colorbar": {
              "outlinewidth": 0,
              "ticks": ""
             }
            },
            "type": "scattergeo"
           }
          ],
          "scattergl": [
           {
            "marker": {
             "colorbar": {
              "outlinewidth": 0,
              "ticks": ""
             }
            },
            "type": "scattergl"
           }
          ],
          "scattermapbox": [
           {
            "marker": {
             "colorbar": {
              "outlinewidth": 0,
              "ticks": ""
             }
            },
            "type": "scattermapbox"
           }
          ],
          "scatterpolar": [
           {
            "marker": {
             "colorbar": {
              "outlinewidth": 0,
              "ticks": ""
             }
            },
            "type": "scatterpolar"
           }
          ],
          "scatterpolargl": [
           {
            "marker": {
             "colorbar": {
              "outlinewidth": 0,
              "ticks": ""
             }
            },
            "type": "scatterpolargl"
           }
          ],
          "scatterternary": [
           {
            "marker": {
             "colorbar": {
              "outlinewidth": 0,
              "ticks": ""
             }
            },
            "type": "scatterternary"
           }
          ],
          "surface": [
           {
            "colorbar": {
             "outlinewidth": 0,
             "ticks": ""
            },
            "colorscale": [
             [
              0,
              "#0d0887"
             ],
             [
              0.1111111111111111,
              "#46039f"
             ],
             [
              0.2222222222222222,
              "#7201a8"
             ],
             [
              0.3333333333333333,
              "#9c179e"
             ],
             [
              0.4444444444444444,
              "#bd3786"
             ],
             [
              0.5555555555555556,
              "#d8576b"
             ],
             [
              0.6666666666666666,
              "#ed7953"
             ],
             [
              0.7777777777777778,
              "#fb9f3a"
             ],
             [
              0.8888888888888888,
              "#fdca26"
             ],
             [
              1,
              "#f0f921"
             ]
            ],
            "type": "surface"
           }
          ],
          "table": [
           {
            "cells": {
             "fill": {
              "color": "#EBF0F8"
             },
             "line": {
              "color": "white"
             }
            },
            "header": {
             "fill": {
              "color": "#C8D4E3"
             },
             "line": {
              "color": "white"
             }
            },
            "type": "table"
           }
          ]
         },
         "layout": {
          "annotationdefaults": {
           "arrowcolor": "#2a3f5f",
           "arrowhead": 0,
           "arrowwidth": 1
          },
          "autotypenumbers": "strict",
          "coloraxis": {
           "colorbar": {
            "outlinewidth": 0,
            "ticks": ""
           }
          },
          "colorscale": {
           "diverging": [
            [
             0,
             "#8e0152"
            ],
            [
             0.1,
             "#c51b7d"
            ],
            [
             0.2,
             "#de77ae"
            ],
            [
             0.3,
             "#f1b6da"
            ],
            [
             0.4,
             "#fde0ef"
            ],
            [
             0.5,
             "#f7f7f7"
            ],
            [
             0.6,
             "#e6f5d0"
            ],
            [
             0.7,
             "#b8e186"
            ],
            [
             0.8,
             "#7fbc41"
            ],
            [
             0.9,
             "#4d9221"
            ],
            [
             1,
             "#276419"
            ]
           ],
           "sequential": [
            [
             0,
             "#0d0887"
            ],
            [
             0.1111111111111111,
             "#46039f"
            ],
            [
             0.2222222222222222,
             "#7201a8"
            ],
            [
             0.3333333333333333,
             "#9c179e"
            ],
            [
             0.4444444444444444,
             "#bd3786"
            ],
            [
             0.5555555555555556,
             "#d8576b"
            ],
            [
             0.6666666666666666,
             "#ed7953"
            ],
            [
             0.7777777777777778,
             "#fb9f3a"
            ],
            [
             0.8888888888888888,
             "#fdca26"
            ],
            [
             1,
             "#f0f921"
            ]
           ],
           "sequentialminus": [
            [
             0,
             "#0d0887"
            ],
            [
             0.1111111111111111,
             "#46039f"
            ],
            [
             0.2222222222222222,
             "#7201a8"
            ],
            [
             0.3333333333333333,
             "#9c179e"
            ],
            [
             0.4444444444444444,
             "#bd3786"
            ],
            [
             0.5555555555555556,
             "#d8576b"
            ],
            [
             0.6666666666666666,
             "#ed7953"
            ],
            [
             0.7777777777777778,
             "#fb9f3a"
            ],
            [
             0.8888888888888888,
             "#fdca26"
            ],
            [
             1,
             "#f0f921"
            ]
           ]
          },
          "colorway": [
           "#636efa",
           "#EF553B",
           "#00cc96",
           "#ab63fa",
           "#FFA15A",
           "#19d3f3",
           "#FF6692",
           "#B6E880",
           "#FF97FF",
           "#FECB52"
          ],
          "font": {
           "color": "#2a3f5f"
          },
          "geo": {
           "bgcolor": "white",
           "lakecolor": "white",
           "landcolor": "#E5ECF6",
           "showlakes": true,
           "showland": true,
           "subunitcolor": "white"
          },
          "hoverlabel": {
           "align": "left"
          },
          "hovermode": "closest",
          "mapbox": {
           "style": "light"
          },
          "paper_bgcolor": "white",
          "plot_bgcolor": "#E5ECF6",
          "polar": {
           "angularaxis": {
            "gridcolor": "white",
            "linecolor": "white",
            "ticks": ""
           },
           "bgcolor": "#E5ECF6",
           "radialaxis": {
            "gridcolor": "white",
            "linecolor": "white",
            "ticks": ""
           }
          },
          "scene": {
           "xaxis": {
            "backgroundcolor": "#E5ECF6",
            "gridcolor": "white",
            "gridwidth": 2,
            "linecolor": "white",
            "showbackground": true,
            "ticks": "",
            "zerolinecolor": "white"
           },
           "yaxis": {
            "backgroundcolor": "#E5ECF6",
            "gridcolor": "white",
            "gridwidth": 2,
            "linecolor": "white",
            "showbackground": true,
            "ticks": "",
            "zerolinecolor": "white"
           },
           "zaxis": {
            "backgroundcolor": "#E5ECF6",
            "gridcolor": "white",
            "gridwidth": 2,
            "linecolor": "white",
            "showbackground": true,
            "ticks": "",
            "zerolinecolor": "white"
           }
          },
          "shapedefaults": {
           "line": {
            "color": "#2a3f5f"
           }
          },
          "ternary": {
           "aaxis": {
            "gridcolor": "white",
            "linecolor": "white",
            "ticks": ""
           },
           "baxis": {
            "gridcolor": "white",
            "linecolor": "white",
            "ticks": ""
           },
           "bgcolor": "#E5ECF6",
           "caxis": {
            "gridcolor": "white",
            "linecolor": "white",
            "ticks": ""
           }
          },
          "title": {
           "x": 0.05
          },
          "xaxis": {
           "automargin": true,
           "gridcolor": "white",
           "linecolor": "white",
           "ticks": "",
           "title": {
            "standoff": 15
           },
           "zerolinecolor": "white",
           "zerolinewidth": 2
          },
          "yaxis": {
           "automargin": true,
           "gridcolor": "white",
           "linecolor": "white",
           "ticks": "",
           "title": {
            "standoff": 15
           },
           "zerolinecolor": "white",
           "zerolinewidth": 2
          }
         }
        },
        "title": {
         "text": "Total cost of Amoxicillin, Doxycycline Hyclate, and Cefalexin (£) per 1000 GP registered patients in 2021"
        },
        "xaxis": {
         "anchor": "y",
         "domain": [
          0,
          1
         ],
         "title": {
          "text": "Clinical Commissioning Group (CCG)"
         }
        },
        "yaxis": {
         "anchor": "x",
         "domain": [
          0,
          1
         ],
         "title": {
          "text": "Total cost of Amoxicillin, Doxycycline Hyclate, Cefalexin (£) per 1000 GP registered patients"
         }
        }
       }
      }
     },
     "metadata": {}
    }
   ],
   "metadata": {}
  }
 ],
 "metadata": {
  "orig_nbformat": 4,
  "language_info": {
   "name": "python"
  }
 },
 "nbformat": 4,
 "nbformat_minor": 2
}