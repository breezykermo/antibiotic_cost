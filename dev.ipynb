{
 "cells": [
  {
   "cell_type": "code",
   "execution_count": 1,
   "source": [
    "import urllib.request\r\n",
    "import json\r\n",
    "import pandas as pd\r\n",
    "import plotly.express as px"
   ],
   "outputs": [],
   "metadata": {}
  },
  {
   "cell_type": "code",
   "execution_count": 2,
   "source": [
    "#0501013B0 = Amoxicillin\r\n",
    "\r\n",
    "url_0501013B0 = \"https://openprescribing.net/api/1.0/spending_by_ccg/?code=0501013B0&format=json\"\r\n",
    "response_0501013B0 = urllib.request.urlopen(url_0501013B0)\r\n",
    "data_0501013B0 = json.loads(response_0501013B0.read())\r\n",
    "flat_data_0501013B0 = pd.json_normalize(data_0501013B0)\r\n",
    "flat_data_0501013B0 = flat_data_0501013B0.groupby(['row_name', 'row_id', 'date']).sum()\r\n",
    "flat_data_0501013B0 = flat_data_0501013B0.drop(columns=['items', 'quantity'])\r\n",
    "flat_data_0501013B0 .rename(columns={'actual_cost': 'Amoxicillin'}, inplace=True)\r\n",
    "flat_data_0501013B0"
   ],
   "outputs": [
    {
     "output_type": "execute_result",
     "data": {
      "text/plain": [
       "                                    Amoxicillin\n",
       "row_name         row_id date                   \n",
       "NHS BARNSLEY CCG 02P    2016-05-01      4077.60\n",
       "                        2016-06-01      3371.07\n",
       "                        2016-07-01      3168.21\n",
       "                        2016-08-01      2574.71\n",
       "                        2016-09-01      3019.71\n",
       "...                                         ...\n",
       "NHS WIRRAL CCG   12F    2020-12-01      4516.10\n",
       "                        2021-01-01      3984.33\n",
       "                        2021-02-01      3270.02\n",
       "                        2021-03-01      3681.28\n",
       "                        2021-04-01      4233.48\n",
       "\n",
       "[6382 rows x 1 columns]"
      ],
      "text/html": [
       "<div>\n",
       "<style scoped>\n",
       "    .dataframe tbody tr th:only-of-type {\n",
       "        vertical-align: middle;\n",
       "    }\n",
       "\n",
       "    .dataframe tbody tr th {\n",
       "        vertical-align: top;\n",
       "    }\n",
       "\n",
       "    .dataframe thead th {\n",
       "        text-align: right;\n",
       "    }\n",
       "</style>\n",
       "<table border=\"1\" class=\"dataframe\">\n",
       "  <thead>\n",
       "    <tr style=\"text-align: right;\">\n",
       "      <th></th>\n",
       "      <th></th>\n",
       "      <th></th>\n",
       "      <th>Amoxicillin</th>\n",
       "    </tr>\n",
       "    <tr>\n",
       "      <th>row_name</th>\n",
       "      <th>row_id</th>\n",
       "      <th>date</th>\n",
       "      <th></th>\n",
       "    </tr>\n",
       "  </thead>\n",
       "  <tbody>\n",
       "    <tr>\n",
       "      <th rowspan=\"5\" valign=\"top\">NHS BARNSLEY CCG</th>\n",
       "      <th rowspan=\"5\" valign=\"top\">02P</th>\n",
       "      <th>2016-05-01</th>\n",
       "      <td>4077.60</td>\n",
       "    </tr>\n",
       "    <tr>\n",
       "      <th>2016-06-01</th>\n",
       "      <td>3371.07</td>\n",
       "    </tr>\n",
       "    <tr>\n",
       "      <th>2016-07-01</th>\n",
       "      <td>3168.21</td>\n",
       "    </tr>\n",
       "    <tr>\n",
       "      <th>2016-08-01</th>\n",
       "      <td>2574.71</td>\n",
       "    </tr>\n",
       "    <tr>\n",
       "      <th>2016-09-01</th>\n",
       "      <td>3019.71</td>\n",
       "    </tr>\n",
       "    <tr>\n",
       "      <th>...</th>\n",
       "      <th>...</th>\n",
       "      <th>...</th>\n",
       "      <td>...</td>\n",
       "    </tr>\n",
       "    <tr>\n",
       "      <th rowspan=\"5\" valign=\"top\">NHS WIRRAL CCG</th>\n",
       "      <th rowspan=\"5\" valign=\"top\">12F</th>\n",
       "      <th>2020-12-01</th>\n",
       "      <td>4516.10</td>\n",
       "    </tr>\n",
       "    <tr>\n",
       "      <th>2021-01-01</th>\n",
       "      <td>3984.33</td>\n",
       "    </tr>\n",
       "    <tr>\n",
       "      <th>2021-02-01</th>\n",
       "      <td>3270.02</td>\n",
       "    </tr>\n",
       "    <tr>\n",
       "      <th>2021-03-01</th>\n",
       "      <td>3681.28</td>\n",
       "    </tr>\n",
       "    <tr>\n",
       "      <th>2021-04-01</th>\n",
       "      <td>4233.48</td>\n",
       "    </tr>\n",
       "  </tbody>\n",
       "</table>\n",
       "<p>6382 rows × 1 columns</p>\n",
       "</div>"
      ]
     },
     "metadata": {},
     "execution_count": 2
    }
   ],
   "metadata": {}
  },
  {
   "cell_type": "code",
   "execution_count": 3,
   "source": [
    "#0501030I0 = Doxycycline Hyclate\r\n",
    "\r\n",
    "url_0501030I0 = \"https://openprescribing.net/api/1.0/spending_by_ccg/?code=0501030I0&format=json\"\r\n",
    "response_0501030I0 = urllib.request.urlopen(url_0501030I0)\r\n",
    "data_0501030I0 = json.loads(response_0501030I0.read())\r\n",
    "flat_data_0501030I0 = pd.json_normalize(data_0501030I0)\r\n",
    "flat_data_0501030I0 = flat_data_0501030I0.groupby(['row_name', 'row_id', 'date']).sum()\r\n",
    "flat_data_0501030I0 = flat_data_0501030I0.drop(columns=['items', 'quantity'])\r\n",
    "flat_data_0501030I0.rename(columns={'actual_cost': 'Doxycycline Hyclate'}, inplace=True)\r\n",
    "flat_data_0501030I0"
   ],
   "outputs": [
    {
     "output_type": "execute_result",
     "data": {
      "text/plain": [
       "                                    Doxycycline Hyclate\n",
       "row_name         row_id date                           \n",
       "NHS BARNSLEY CCG 02P    2016-05-01              2185.46\n",
       "                        2016-06-01              2129.81\n",
       "                        2016-07-01              1781.57\n",
       "                        2016-08-01              1839.70\n",
       "                        2016-09-01              1997.36\n",
       "...                                                 ...\n",
       "NHS WIRRAL CCG   12F    2020-12-01              3539.57\n",
       "                        2021-01-01              4467.21\n",
       "                        2021-02-01              3338.46\n",
       "                        2021-03-01              3777.32\n",
       "                        2021-04-01              3562.62\n",
       "\n",
       "[6382 rows x 1 columns]"
      ],
      "text/html": [
       "<div>\n",
       "<style scoped>\n",
       "    .dataframe tbody tr th:only-of-type {\n",
       "        vertical-align: middle;\n",
       "    }\n",
       "\n",
       "    .dataframe tbody tr th {\n",
       "        vertical-align: top;\n",
       "    }\n",
       "\n",
       "    .dataframe thead th {\n",
       "        text-align: right;\n",
       "    }\n",
       "</style>\n",
       "<table border=\"1\" class=\"dataframe\">\n",
       "  <thead>\n",
       "    <tr style=\"text-align: right;\">\n",
       "      <th></th>\n",
       "      <th></th>\n",
       "      <th></th>\n",
       "      <th>Doxycycline Hyclate</th>\n",
       "    </tr>\n",
       "    <tr>\n",
       "      <th>row_name</th>\n",
       "      <th>row_id</th>\n",
       "      <th>date</th>\n",
       "      <th></th>\n",
       "    </tr>\n",
       "  </thead>\n",
       "  <tbody>\n",
       "    <tr>\n",
       "      <th rowspan=\"5\" valign=\"top\">NHS BARNSLEY CCG</th>\n",
       "      <th rowspan=\"5\" valign=\"top\">02P</th>\n",
       "      <th>2016-05-01</th>\n",
       "      <td>2185.46</td>\n",
       "    </tr>\n",
       "    <tr>\n",
       "      <th>2016-06-01</th>\n",
       "      <td>2129.81</td>\n",
       "    </tr>\n",
       "    <tr>\n",
       "      <th>2016-07-01</th>\n",
       "      <td>1781.57</td>\n",
       "    </tr>\n",
       "    <tr>\n",
       "      <th>2016-08-01</th>\n",
       "      <td>1839.70</td>\n",
       "    </tr>\n",
       "    <tr>\n",
       "      <th>2016-09-01</th>\n",
       "      <td>1997.36</td>\n",
       "    </tr>\n",
       "    <tr>\n",
       "      <th>...</th>\n",
       "      <th>...</th>\n",
       "      <th>...</th>\n",
       "      <td>...</td>\n",
       "    </tr>\n",
       "    <tr>\n",
       "      <th rowspan=\"5\" valign=\"top\">NHS WIRRAL CCG</th>\n",
       "      <th rowspan=\"5\" valign=\"top\">12F</th>\n",
       "      <th>2020-12-01</th>\n",
       "      <td>3539.57</td>\n",
       "    </tr>\n",
       "    <tr>\n",
       "      <th>2021-01-01</th>\n",
       "      <td>4467.21</td>\n",
       "    </tr>\n",
       "    <tr>\n",
       "      <th>2021-02-01</th>\n",
       "      <td>3338.46</td>\n",
       "    </tr>\n",
       "    <tr>\n",
       "      <th>2021-03-01</th>\n",
       "      <td>3777.32</td>\n",
       "    </tr>\n",
       "    <tr>\n",
       "      <th>2021-04-01</th>\n",
       "      <td>3562.62</td>\n",
       "    </tr>\n",
       "  </tbody>\n",
       "</table>\n",
       "<p>6382 rows × 1 columns</p>\n",
       "</div>"
      ]
     },
     "metadata": {},
     "execution_count": 3
    }
   ],
   "metadata": {}
  },
  {
   "cell_type": "code",
   "execution_count": 4,
   "source": [
    "#0501021L0 = Cefalexin\r\n",
    "\r\n",
    "\r\n",
    "\r\n",
    "url_0501021L0 = \"https://openprescribing.net/api/1.0/spending_by_ccg/?code=0501021L0&format=json\"\r\n",
    "response_0501021L0 = urllib.request.urlopen(url_0501021L0)\r\n",
    "data_0501021L0 = json.loads(response_0501021L0.read())\r\n",
    "flat_data_0501021L0= pd.json_normalize(data_0501021L0)\r\n",
    "flat_data_0501021L0 = flat_data_0501021L0.groupby(['row_name', 'row_id', 'date']).sum()\r\n",
    "flat_data_0501021L0 = flat_data_0501021L0.drop(columns=['items', 'quantity'])\r\n",
    "flat_data_0501021L0.rename(columns={'actual_cost': 'Cefalexin'}, inplace=True)\r\n",
    "flat_data_0501021L0"
   ],
   "outputs": [
    {
     "output_type": "execute_result",
     "data": {
      "text/plain": [
       "                                    Cefalexin\n",
       "row_name         row_id date                 \n",
       "NHS BARNSLEY CCG 02P    2016-05-01     289.58\n",
       "                        2016-06-01     237.11\n",
       "                        2016-07-01     275.00\n",
       "                        2016-08-01     221.24\n",
       "                        2016-09-01     268.23\n",
       "...                                       ...\n",
       "NHS WIRRAL CCG   12F    2020-12-01    1989.70\n",
       "                        2021-01-01    2071.17\n",
       "                        2021-02-01    1874.03\n",
       "                        2021-03-01    2210.04\n",
       "                        2021-04-01    2152.52\n",
       "\n",
       "[6375 rows x 1 columns]"
      ],
      "text/html": [
       "<div>\n",
       "<style scoped>\n",
       "    .dataframe tbody tr th:only-of-type {\n",
       "        vertical-align: middle;\n",
       "    }\n",
       "\n",
       "    .dataframe tbody tr th {\n",
       "        vertical-align: top;\n",
       "    }\n",
       "\n",
       "    .dataframe thead th {\n",
       "        text-align: right;\n",
       "    }\n",
       "</style>\n",
       "<table border=\"1\" class=\"dataframe\">\n",
       "  <thead>\n",
       "    <tr style=\"text-align: right;\">\n",
       "      <th></th>\n",
       "      <th></th>\n",
       "      <th></th>\n",
       "      <th>Cefalexin</th>\n",
       "    </tr>\n",
       "    <tr>\n",
       "      <th>row_name</th>\n",
       "      <th>row_id</th>\n",
       "      <th>date</th>\n",
       "      <th></th>\n",
       "    </tr>\n",
       "  </thead>\n",
       "  <tbody>\n",
       "    <tr>\n",
       "      <th rowspan=\"5\" valign=\"top\">NHS BARNSLEY CCG</th>\n",
       "      <th rowspan=\"5\" valign=\"top\">02P</th>\n",
       "      <th>2016-05-01</th>\n",
       "      <td>289.58</td>\n",
       "    </tr>\n",
       "    <tr>\n",
       "      <th>2016-06-01</th>\n",
       "      <td>237.11</td>\n",
       "    </tr>\n",
       "    <tr>\n",
       "      <th>2016-07-01</th>\n",
       "      <td>275.00</td>\n",
       "    </tr>\n",
       "    <tr>\n",
       "      <th>2016-08-01</th>\n",
       "      <td>221.24</td>\n",
       "    </tr>\n",
       "    <tr>\n",
       "      <th>2016-09-01</th>\n",
       "      <td>268.23</td>\n",
       "    </tr>\n",
       "    <tr>\n",
       "      <th>...</th>\n",
       "      <th>...</th>\n",
       "      <th>...</th>\n",
       "      <td>...</td>\n",
       "    </tr>\n",
       "    <tr>\n",
       "      <th rowspan=\"5\" valign=\"top\">NHS WIRRAL CCG</th>\n",
       "      <th rowspan=\"5\" valign=\"top\">12F</th>\n",
       "      <th>2020-12-01</th>\n",
       "      <td>1989.70</td>\n",
       "    </tr>\n",
       "    <tr>\n",
       "      <th>2021-01-01</th>\n",
       "      <td>2071.17</td>\n",
       "    </tr>\n",
       "    <tr>\n",
       "      <th>2021-02-01</th>\n",
       "      <td>1874.03</td>\n",
       "    </tr>\n",
       "    <tr>\n",
       "      <th>2021-03-01</th>\n",
       "      <td>2210.04</td>\n",
       "    </tr>\n",
       "    <tr>\n",
       "      <th>2021-04-01</th>\n",
       "      <td>2152.52</td>\n",
       "    </tr>\n",
       "  </tbody>\n",
       "</table>\n",
       "<p>6375 rows × 1 columns</p>\n",
       "</div>"
      ]
     },
     "metadata": {},
     "execution_count": 4
    }
   ],
   "metadata": {}
  },
  {
   "cell_type": "code",
   "execution_count": 5,
   "source": [
    "join_1 = flat_data_0501013B0.join(flat_data_0501030I0, lsuffix='row_id', rsuffix='row_id')\r\n",
    "all_amoxicillin_merged = join_1.join(flat_data_0501021L0, lsuffix='row_id', rsuffix='row_id')\r\n",
    "all_amoxicillin_merged.fillna(0, inplace=True)\r\n",
    "#all_amoxicillin_merged['Total cost of Amoxicillin, Doxycycline Hyclate, Cefalexin(£)']= all_amoxicillin_merged.iloc[:, -3:].sum(axis=1)\r\n",
    "all_amoxicillin = all_amoxicillin_merged.reset_index()\r\n",
    "all_amoxicillin.rename(columns={'row_name': 'Clinical Commissioning Group (CCG)', 'row_id': 'ODS code', 'date': 'Date'}, inplace=True)\r\n",
    "all_amoxicillin "
   ],
   "outputs": [
    {
     "output_type": "execute_result",
     "data": {
      "text/plain": [
       "     Clinical Commissioning Group (CCG) ODS code        Date  Amoxicillin  \\\n",
       "0                      NHS BARNSLEY CCG      02P  2016-05-01      4077.60   \n",
       "1                      NHS BARNSLEY CCG      02P  2016-06-01      3371.07   \n",
       "2                      NHS BARNSLEY CCG      02P  2016-07-01      3168.21   \n",
       "3                      NHS BARNSLEY CCG      02P  2016-08-01      2574.71   \n",
       "4                      NHS BARNSLEY CCG      02P  2016-09-01      3019.71   \n",
       "...                                 ...      ...         ...          ...   \n",
       "6377                     NHS WIRRAL CCG      12F  2020-12-01      4516.10   \n",
       "6378                     NHS WIRRAL CCG      12F  2021-01-01      3984.33   \n",
       "6379                     NHS WIRRAL CCG      12F  2021-02-01      3270.02   \n",
       "6380                     NHS WIRRAL CCG      12F  2021-03-01      3681.28   \n",
       "6381                     NHS WIRRAL CCG      12F  2021-04-01      4233.48   \n",
       "\n",
       "      Doxycycline Hyclate  Cefalexin  \n",
       "0                 2185.46     289.58  \n",
       "1                 2129.81     237.11  \n",
       "2                 1781.57     275.00  \n",
       "3                 1839.70     221.24  \n",
       "4                 1997.36     268.23  \n",
       "...                   ...        ...  \n",
       "6377              3539.57    1989.70  \n",
       "6378              4467.21    2071.17  \n",
       "6379              3338.46    1874.03  \n",
       "6380              3777.32    2210.04  \n",
       "6381              3562.62    2152.52  \n",
       "\n",
       "[6382 rows x 6 columns]"
      ],
      "text/html": [
       "<div>\n",
       "<style scoped>\n",
       "    .dataframe tbody tr th:only-of-type {\n",
       "        vertical-align: middle;\n",
       "    }\n",
       "\n",
       "    .dataframe tbody tr th {\n",
       "        vertical-align: top;\n",
       "    }\n",
       "\n",
       "    .dataframe thead th {\n",
       "        text-align: right;\n",
       "    }\n",
       "</style>\n",
       "<table border=\"1\" class=\"dataframe\">\n",
       "  <thead>\n",
       "    <tr style=\"text-align: right;\">\n",
       "      <th></th>\n",
       "      <th>Clinical Commissioning Group (CCG)</th>\n",
       "      <th>ODS code</th>\n",
       "      <th>Date</th>\n",
       "      <th>Amoxicillin</th>\n",
       "      <th>Doxycycline Hyclate</th>\n",
       "      <th>Cefalexin</th>\n",
       "    </tr>\n",
       "  </thead>\n",
       "  <tbody>\n",
       "    <tr>\n",
       "      <th>0</th>\n",
       "      <td>NHS BARNSLEY CCG</td>\n",
       "      <td>02P</td>\n",
       "      <td>2016-05-01</td>\n",
       "      <td>4077.60</td>\n",
       "      <td>2185.46</td>\n",
       "      <td>289.58</td>\n",
       "    </tr>\n",
       "    <tr>\n",
       "      <th>1</th>\n",
       "      <td>NHS BARNSLEY CCG</td>\n",
       "      <td>02P</td>\n",
       "      <td>2016-06-01</td>\n",
       "      <td>3371.07</td>\n",
       "      <td>2129.81</td>\n",
       "      <td>237.11</td>\n",
       "    </tr>\n",
       "    <tr>\n",
       "      <th>2</th>\n",
       "      <td>NHS BARNSLEY CCG</td>\n",
       "      <td>02P</td>\n",
       "      <td>2016-07-01</td>\n",
       "      <td>3168.21</td>\n",
       "      <td>1781.57</td>\n",
       "      <td>275.00</td>\n",
       "    </tr>\n",
       "    <tr>\n",
       "      <th>3</th>\n",
       "      <td>NHS BARNSLEY CCG</td>\n",
       "      <td>02P</td>\n",
       "      <td>2016-08-01</td>\n",
       "      <td>2574.71</td>\n",
       "      <td>1839.70</td>\n",
       "      <td>221.24</td>\n",
       "    </tr>\n",
       "    <tr>\n",
       "      <th>4</th>\n",
       "      <td>NHS BARNSLEY CCG</td>\n",
       "      <td>02P</td>\n",
       "      <td>2016-09-01</td>\n",
       "      <td>3019.71</td>\n",
       "      <td>1997.36</td>\n",
       "      <td>268.23</td>\n",
       "    </tr>\n",
       "    <tr>\n",
       "      <th>...</th>\n",
       "      <td>...</td>\n",
       "      <td>...</td>\n",
       "      <td>...</td>\n",
       "      <td>...</td>\n",
       "      <td>...</td>\n",
       "      <td>...</td>\n",
       "    </tr>\n",
       "    <tr>\n",
       "      <th>6377</th>\n",
       "      <td>NHS WIRRAL CCG</td>\n",
       "      <td>12F</td>\n",
       "      <td>2020-12-01</td>\n",
       "      <td>4516.10</td>\n",
       "      <td>3539.57</td>\n",
       "      <td>1989.70</td>\n",
       "    </tr>\n",
       "    <tr>\n",
       "      <th>6378</th>\n",
       "      <td>NHS WIRRAL CCG</td>\n",
       "      <td>12F</td>\n",
       "      <td>2021-01-01</td>\n",
       "      <td>3984.33</td>\n",
       "      <td>4467.21</td>\n",
       "      <td>2071.17</td>\n",
       "    </tr>\n",
       "    <tr>\n",
       "      <th>6379</th>\n",
       "      <td>NHS WIRRAL CCG</td>\n",
       "      <td>12F</td>\n",
       "      <td>2021-02-01</td>\n",
       "      <td>3270.02</td>\n",
       "      <td>3338.46</td>\n",
       "      <td>1874.03</td>\n",
       "    </tr>\n",
       "    <tr>\n",
       "      <th>6380</th>\n",
       "      <td>NHS WIRRAL CCG</td>\n",
       "      <td>12F</td>\n",
       "      <td>2021-03-01</td>\n",
       "      <td>3681.28</td>\n",
       "      <td>3777.32</td>\n",
       "      <td>2210.04</td>\n",
       "    </tr>\n",
       "    <tr>\n",
       "      <th>6381</th>\n",
       "      <td>NHS WIRRAL CCG</td>\n",
       "      <td>12F</td>\n",
       "      <td>2021-04-01</td>\n",
       "      <td>4233.48</td>\n",
       "      <td>3562.62</td>\n",
       "      <td>2152.52</td>\n",
       "    </tr>\n",
       "  </tbody>\n",
       "</table>\n",
       "<p>6382 rows × 6 columns</p>\n",
       "</div>"
      ]
     },
     "metadata": {},
     "execution_count": 5
    }
   ],
   "metadata": {}
  },
  {
   "cell_type": "code",
   "execution_count": 8,
   "source": [
    "all_amoxicillin_plot = all_amoxicillin.groupby(['Date']).sum()\r\n",
    "all_amoxicillin_plot = all_amoxicillin_plot.reset_index()"
   ],
   "outputs": [],
   "metadata": {}
  },
  {
   "cell_type": "code",
   "execution_count": 11,
   "source": [
    "pd.options.plotting.backend = \"plotly\"\r\n",
    "fig = px.bar(all_amoxicillin_plot, x='Date', y= [\"Amoxicillin\", \"Doxycycline Hyclate\", 'Cefalexin'],\r\n",
    "labels={\"value\": \"Cost (£)\", \"variable\": \"Antibiotic\"},  \r\n",
    "title= \"Total cost of Amoxicillin, Doxycycline Hyclate, and Cefalexin (£) per month\")\r\n",
    "fig.update_layout(\r\n",
    "    {\"plot_bgcolor\": \"rgba(0, 0, 0, 0)\", \"paper_bgcolor\": \"rgba(0, 0, 0, 0)\"},\r\n",
    "    autosize=True,\r\n",
    "    margin=dict(l=50, r=50, b=50, t=50, pad=4, autoexpand=True),\r\n",
    ")\r\n",
    "fig.show()\r\n"
   ],
   "outputs": [
    {
     "output_type": "display_data",
     "data": {
      "application/vnd.plotly.v1+json": {
       "config": {
        "plotlyServerURL": "https://plot.ly"
       },
       "data": [
        {
         "alignmentgroup": "True",
         "hovertemplate": "Antibiotic=Amoxicillin<br>Date=%{x}<br>Cost (£)=%{y}<extra></extra>",
         "legendgroup": "Amoxicillin",
         "marker": {
          "color": "#636efa",
          "pattern": {
           "shape": ""
          }
         },
         "name": "Amoxicillin",
         "offsetgroup": "Amoxicillin",
         "orientation": "v",
         "showlegend": true,
         "textposition": "auto",
         "type": "bar",
         "x": [
          "2016-05-01",
          "2016-06-01",
          "2016-07-01",
          "2016-08-01",
          "2016-09-01",
          "2016-10-01",
          "2016-11-01",
          "2016-12-01",
          "2017-01-01",
          "2017-02-01",
          "2017-03-01",
          "2017-04-01",
          "2017-05-01",
          "2017-06-01",
          "2017-07-01",
          "2017-08-01",
          "2017-09-01",
          "2017-10-01",
          "2017-11-01",
          "2017-12-01",
          "2018-01-01",
          "2018-02-01",
          "2018-03-01",
          "2018-04-01",
          "2018-05-01",
          "2018-06-01",
          "2018-07-01",
          "2018-08-01",
          "2018-09-01",
          "2018-10-01",
          "2018-11-01",
          "2018-12-01",
          "2019-01-01",
          "2019-02-01",
          "2019-03-01",
          "2019-04-01",
          "2019-05-01",
          "2019-06-01",
          "2019-07-01",
          "2019-08-01",
          "2019-09-01",
          "2019-10-01",
          "2019-11-01",
          "2019-12-01",
          "2020-01-01",
          "2020-02-01",
          "2020-03-01",
          "2020-04-01",
          "2020-05-01",
          "2020-06-01",
          "2020-07-01",
          "2020-08-01",
          "2020-09-01",
          "2020-10-01",
          "2020-11-01",
          "2020-12-01",
          "2021-01-01",
          "2021-02-01",
          "2021-03-01",
          "2021-04-01"
         ],
         "xaxis": "x",
         "y": [
          873742.0700000002,
          723075.2699999998,
          715976.1400000001,
          601629.0900000001,
          674547.06,
          915656.47,
          1086092.7400000005,
          1332072.8399999999,
          1260825.4399999992,
          999002.3099999998,
          951099.41,
          767132.16,
          795452.5900000002,
          649513.68,
          672721.8400000003,
          604891.15,
          687848.5000000001,
          807587.4,
          889468.1699999998,
          1050019.8599999999,
          1120037.87,
          847868.8600000002,
          816426.3599999999,
          555756.3299999998,
          532848.7399999999,
          436885.16999999987,
          452633.45999999996,
          471911.35,
          590391.6100000001,
          800694.9000000001,
          804827.1900000001,
          917046.5200000004,
          994095.6799999999,
          828194.2599999999,
          728051.1299999999,
          701145.3700000002,
          606924.2299999997,
          535428.8600000001,
          560978.5600000002,
          570369.8600000001,
          668519.5400000002,
          1007170.8,
          1123567.1099999996,
          1444710.7200000004,
          1228833.0499999993,
          1000404.7300000004,
          1027387.5400000004,
          707322.95,
          449324.6100000002,
          458757.61999999994,
          454349.1900000001,
          433947.41999999975,
          665443.0900000003,
          642079.7200000002,
          578696.76,
          633291.1499999997,
          549621.35,
          443637.85999999987,
          518278.8500000002,
          547597.0099999999
         ],
         "yaxis": "y"
        },
        {
         "alignmentgroup": "True",
         "hovertemplate": "Antibiotic=Doxycycline Hyclate<br>Date=%{x}<br>Cost (£)=%{y}<extra></extra>",
         "legendgroup": "Doxycycline Hyclate",
         "marker": {
          "color": "#EF553B",
          "pattern": {
           "shape": ""
          }
         },
         "name": "Doxycycline Hyclate",
         "offsetgroup": "Doxycycline Hyclate",
         "orientation": "v",
         "showlegend": true,
         "textposition": "auto",
         "type": "bar",
         "x": [
          "2016-05-01",
          "2016-06-01",
          "2016-07-01",
          "2016-08-01",
          "2016-09-01",
          "2016-10-01",
          "2016-11-01",
          "2016-12-01",
          "2017-01-01",
          "2017-02-01",
          "2017-03-01",
          "2017-04-01",
          "2017-05-01",
          "2017-06-01",
          "2017-07-01",
          "2017-08-01",
          "2017-09-01",
          "2017-10-01",
          "2017-11-01",
          "2017-12-01",
          "2018-01-01",
          "2018-02-01",
          "2018-03-01",
          "2018-04-01",
          "2018-05-01",
          "2018-06-01",
          "2018-07-01",
          "2018-08-01",
          "2018-09-01",
          "2018-10-01",
          "2018-11-01",
          "2018-12-01",
          "2019-01-01",
          "2019-02-01",
          "2019-03-01",
          "2019-04-01",
          "2019-05-01",
          "2019-06-01",
          "2019-07-01",
          "2019-08-01",
          "2019-09-01",
          "2019-10-01",
          "2019-11-01",
          "2019-12-01",
          "2020-01-01",
          "2020-02-01",
          "2020-03-01",
          "2020-04-01",
          "2020-05-01",
          "2020-06-01",
          "2020-07-01",
          "2020-08-01",
          "2020-09-01",
          "2020-10-01",
          "2020-11-01",
          "2020-12-01",
          "2021-01-01",
          "2021-02-01",
          "2021-03-01",
          "2021-04-01"
         ],
         "xaxis": "x",
         "y": [
          347353.0900000001,
          319257.85,
          302165.29000000004,
          288778.1399999999,
          299548.12000000017,
          334579.69000000006,
          371928.4799999998,
          420979.41000000003,
          430970.81000000006,
          362181.4700000002,
          381835.65,
          312668.72000000003,
          334777.03999999986,
          312937.1500000001,
          302468.42999999993,
          285277.93,
          291412.88999999996,
          331637.5700000001,
          329568.0799999999,
          374173.1199999999,
          389203.7299999998,
          303278.36,
          314176.22,
          217828.12000000005,
          210703.31000000017,
          202228.83999999994,
          219626.1100000001,
          253609.71999999983,
          259341.03000000003,
          326980.8099999998,
          309904.45000000007,
          332118.2299999999,
          376774.55000000016,
          317184.8200000002,
          315528.7800000001,
          325364.95999999996,
          323026.33000000013,
          302624.4099999999,
          325541.17999999993,
          365425.35000000015,
          364862.5500000003,
          513368.09999999986,
          508837.08999999973,
          566816.68,
          872039.8499999996,
          713020.6399999998,
          822089.61,
          634715.9400000002,
          513347.8600000002,
          555020.9900000001,
          540426.6200000002,
          481276.38999999996,
          573924.4700000001,
          535275.1299999999,
          513486.12,
          545920.16,
          571019.9999999999,
          486420.9799999999,
          532698.3099999998,
          499766.6700000001
         ],
         "yaxis": "y"
        },
        {
         "alignmentgroup": "True",
         "hovertemplate": "Antibiotic=Cefalexin<br>Date=%{x}<br>Cost (£)=%{y}<extra></extra>",
         "legendgroup": "Cefalexin",
         "marker": {
          "color": "#00cc96",
          "pattern": {
           "shape": ""
          }
         },
         "name": "Cefalexin",
         "offsetgroup": "Cefalexin",
         "orientation": "v",
         "showlegend": true,
         "textposition": "auto",
         "type": "bar",
         "x": [
          "2016-05-01",
          "2016-06-01",
          "2016-07-01",
          "2016-08-01",
          "2016-09-01",
          "2016-10-01",
          "2016-11-01",
          "2016-12-01",
          "2017-01-01",
          "2017-02-01",
          "2017-03-01",
          "2017-04-01",
          "2017-05-01",
          "2017-06-01",
          "2017-07-01",
          "2017-08-01",
          "2017-09-01",
          "2017-10-01",
          "2017-11-01",
          "2017-12-01",
          "2018-01-01",
          "2018-02-01",
          "2018-03-01",
          "2018-04-01",
          "2018-05-01",
          "2018-06-01",
          "2018-07-01",
          "2018-08-01",
          "2018-09-01",
          "2018-10-01",
          "2018-11-01",
          "2018-12-01",
          "2019-01-01",
          "2019-02-01",
          "2019-03-01",
          "2019-04-01",
          "2019-05-01",
          "2019-06-01",
          "2019-07-01",
          "2019-08-01",
          "2019-09-01",
          "2019-10-01",
          "2019-11-01",
          "2019-12-01",
          "2020-01-01",
          "2020-02-01",
          "2020-03-01",
          "2020-04-01",
          "2020-05-01",
          "2020-06-01",
          "2020-07-01",
          "2020-08-01",
          "2020-09-01",
          "2020-10-01",
          "2020-11-01",
          "2020-12-01",
          "2021-01-01",
          "2021-02-01",
          "2021-03-01",
          "2021-04-01"
         ],
         "xaxis": "x",
         "y": [
          109656.50999999997,
          102510.26000000002,
          102510.50000000003,
          101797.15000000002,
          104026.19999999998,
          101124.45999999995,
          104744.18999999993,
          109233.93000000004,
          104245.89000000003,
          94747.55999999995,
          106471.54000000002,
          87970.81999999999,
          95411.40000000005,
          95998.03000000004,
          88766.29999999999,
          82844.90999999999,
          81626.78,
          84708.07999999996,
          83039.33999999998,
          83518.34999999998,
          93810.08000000006,
          80593.29,
          87815.41999999998,
          94763.21999999999,
          97459.61000000002,
          94533.86999999998,
          98624.02,
          117342.13999999997,
          109284.46000000002,
          119199.45000000004,
          107170.41000000002,
          107768.6,
          112153.36999999997,
          96727.99,
          104498.04000000002,
          102450.78999999998,
          109002.61000000002,
          102555.81999999995,
          110427.45999999999,
          120345.49000000003,
          112103.08999999998,
          125403.59000000003,
          123112.56,
          127997.16999999998,
          136469.88999999993,
          125714.83000000005,
          141835.74999999997,
          146173.8799999999,
          133044.82999999996,
          150827.94000000006,
          163037.82,
          149225.90999999992,
          169058.11000000002,
          167395.49999999994,
          165046.1,
          176860.88999999998,
          174868.45000000004,
          165681.18000000005,
          184700.42,
          176177.09000000003
         ],
         "yaxis": "y"
        }
       ],
       "layout": {
        "autosize": true,
        "barmode": "relative",
        "legend": {
         "title": {
          "text": "Antibiotic"
         },
         "tracegroupgap": 0
        },
        "margin": {
         "autoexpand": true,
         "b": 50,
         "l": 50,
         "pad": 4,
         "r": 50,
         "t": 50
        },
        "paper_bgcolor": "rgba(0, 0, 0, 0)",
        "plot_bgcolor": "rgba(0, 0, 0, 0)",
        "template": {
         "data": {
          "bar": [
           {
            "error_x": {
             "color": "#2a3f5f"
            },
            "error_y": {
             "color": "#2a3f5f"
            },
            "marker": {
             "line": {
              "color": "#E5ECF6",
              "width": 0.5
             },
             "pattern": {
              "fillmode": "overlay",
              "size": 10,
              "solidity": 0.2
             }
            },
            "type": "bar"
           }
          ],
          "barpolar": [
           {
            "marker": {
             "line": {
              "color": "#E5ECF6",
              "width": 0.5
             },
             "pattern": {
              "fillmode": "overlay",
              "size": 10,
              "solidity": 0.2
             }
            },
            "type": "barpolar"
           }
          ],
          "carpet": [
           {
            "aaxis": {
             "endlinecolor": "#2a3f5f",
             "gridcolor": "white",
             "linecolor": "white",
             "minorgridcolor": "white",
             "startlinecolor": "#2a3f5f"
            },
            "baxis": {
             "endlinecolor": "#2a3f5f",
             "gridcolor": "white",
             "linecolor": "white",
             "minorgridcolor": "white",
             "startlinecolor": "#2a3f5f"
            },
            "type": "carpet"
           }
          ],
          "choropleth": [
           {
            "colorbar": {
             "outlinewidth": 0,
             "ticks": ""
            },
            "type": "choropleth"
           }
          ],
          "contour": [
           {
            "colorbar": {
             "outlinewidth": 0,
             "ticks": ""
            },
            "colorscale": [
             [
              0,
              "#0d0887"
             ],
             [
              0.1111111111111111,
              "#46039f"
             ],
             [
              0.2222222222222222,
              "#7201a8"
             ],
             [
              0.3333333333333333,
              "#9c179e"
             ],
             [
              0.4444444444444444,
              "#bd3786"
             ],
             [
              0.5555555555555556,
              "#d8576b"
             ],
             [
              0.6666666666666666,
              "#ed7953"
             ],
             [
              0.7777777777777778,
              "#fb9f3a"
             ],
             [
              0.8888888888888888,
              "#fdca26"
             ],
             [
              1,
              "#f0f921"
             ]
            ],
            "type": "contour"
           }
          ],
          "contourcarpet": [
           {
            "colorbar": {
             "outlinewidth": 0,
             "ticks": ""
            },
            "type": "contourcarpet"
           }
          ],
          "heatmap": [
           {
            "colorbar": {
             "outlinewidth": 0,
             "ticks": ""
            },
            "colorscale": [
             [
              0,
              "#0d0887"
             ],
             [
              0.1111111111111111,
              "#46039f"
             ],
             [
              0.2222222222222222,
              "#7201a8"
             ],
             [
              0.3333333333333333,
              "#9c179e"
             ],
             [
              0.4444444444444444,
              "#bd3786"
             ],
             [
              0.5555555555555556,
              "#d8576b"
             ],
             [
              0.6666666666666666,
              "#ed7953"
             ],
             [
              0.7777777777777778,
              "#fb9f3a"
             ],
             [
              0.8888888888888888,
              "#fdca26"
             ],
             [
              1,
              "#f0f921"
             ]
            ],
            "type": "heatmap"
           }
          ],
          "heatmapgl": [
           {
            "colorbar": {
             "outlinewidth": 0,
             "ticks": ""
            },
            "colorscale": [
             [
              0,
              "#0d0887"
             ],
             [
              0.1111111111111111,
              "#46039f"
             ],
             [
              0.2222222222222222,
              "#7201a8"
             ],
             [
              0.3333333333333333,
              "#9c179e"
             ],
             [
              0.4444444444444444,
              "#bd3786"
             ],
             [
              0.5555555555555556,
              "#d8576b"
             ],
             [
              0.6666666666666666,
              "#ed7953"
             ],
             [
              0.7777777777777778,
              "#fb9f3a"
             ],
             [
              0.8888888888888888,
              "#fdca26"
             ],
             [
              1,
              "#f0f921"
             ]
            ],
            "type": "heatmapgl"
           }
          ],
          "histogram": [
           {
            "marker": {
             "pattern": {
              "fillmode": "overlay",
              "size": 10,
              "solidity": 0.2
             }
            },
            "type": "histogram"
           }
          ],
          "histogram2d": [
           {
            "colorbar": {
             "outlinewidth": 0,
             "ticks": ""
            },
            "colorscale": [
             [
              0,
              "#0d0887"
             ],
             [
              0.1111111111111111,
              "#46039f"
             ],
             [
              0.2222222222222222,
              "#7201a8"
             ],
             [
              0.3333333333333333,
              "#9c179e"
             ],
             [
              0.4444444444444444,
              "#bd3786"
             ],
             [
              0.5555555555555556,
              "#d8576b"
             ],
             [
              0.6666666666666666,
              "#ed7953"
             ],
             [
              0.7777777777777778,
              "#fb9f3a"
             ],
             [
              0.8888888888888888,
              "#fdca26"
             ],
             [
              1,
              "#f0f921"
             ]
            ],
            "type": "histogram2d"
           }
          ],
          "histogram2dcontour": [
           {
            "colorbar": {
             "outlinewidth": 0,
             "ticks": ""
            },
            "colorscale": [
             [
              0,
              "#0d0887"
             ],
             [
              0.1111111111111111,
              "#46039f"
             ],
             [
              0.2222222222222222,
              "#7201a8"
             ],
             [
              0.3333333333333333,
              "#9c179e"
             ],
             [
              0.4444444444444444,
              "#bd3786"
             ],
             [
              0.5555555555555556,
              "#d8576b"
             ],
             [
              0.6666666666666666,
              "#ed7953"
             ],
             [
              0.7777777777777778,
              "#fb9f3a"
             ],
             [
              0.8888888888888888,
              "#fdca26"
             ],
             [
              1,
              "#f0f921"
             ]
            ],
            "type": "histogram2dcontour"
           }
          ],
          "mesh3d": [
           {
            "colorbar": {
             "outlinewidth": 0,
             "ticks": ""
            },
            "type": "mesh3d"
           }
          ],
          "parcoords": [
           {
            "line": {
             "colorbar": {
              "outlinewidth": 0,
              "ticks": ""
             }
            },
            "type": "parcoords"
           }
          ],
          "pie": [
           {
            "automargin": true,
            "type": "pie"
           }
          ],
          "scatter": [
           {
            "marker": {
             "colorbar": {
              "outlinewidth": 0,
              "ticks": ""
             }
            },
            "type": "scatter"
           }
          ],
          "scatter3d": [
           {
            "line": {
             "colorbar": {
              "outlinewidth": 0,
              "ticks": ""
             }
            },
            "marker": {
             "colorbar": {
              "outlinewidth": 0,
              "ticks": ""
             }
            },
            "type": "scatter3d"
           }
          ],
          "scattercarpet": [
           {
            "marker": {
             "colorbar": {
              "outlinewidth": 0,
              "ticks": ""
             }
            },
            "type": "scattercarpet"
           }
          ],
          "scattergeo": [
           {
            "marker": {
             "colorbar": {
              "outlinewidth": 0,
              "ticks": ""
             }
            },
            "type": "scattergeo"
           }
          ],
          "scattergl": [
           {
            "marker": {
             "colorbar": {
              "outlinewidth": 0,
              "ticks": ""
             }
            },
            "type": "scattergl"
           }
          ],
          "scattermapbox": [
           {
            "marker": {
             "colorbar": {
              "outlinewidth": 0,
              "ticks": ""
             }
            },
            "type": "scattermapbox"
           }
          ],
          "scatterpolar": [
           {
            "marker": {
             "colorbar": {
              "outlinewidth": 0,
              "ticks": ""
             }
            },
            "type": "scatterpolar"
           }
          ],
          "scatterpolargl": [
           {
            "marker": {
             "colorbar": {
              "outlinewidth": 0,
              "ticks": ""
             }
            },
            "type": "scatterpolargl"
           }
          ],
          "scatterternary": [
           {
            "marker": {
             "colorbar": {
              "outlinewidth": 0,
              "ticks": ""
             }
            },
            "type": "scatterternary"
           }
          ],
          "surface": [
           {
            "colorbar": {
             "outlinewidth": 0,
             "ticks": ""
            },
            "colorscale": [
             [
              0,
              "#0d0887"
             ],
             [
              0.1111111111111111,
              "#46039f"
             ],
             [
              0.2222222222222222,
              "#7201a8"
             ],
             [
              0.3333333333333333,
              "#9c179e"
             ],
             [
              0.4444444444444444,
              "#bd3786"
             ],
             [
              0.5555555555555556,
              "#d8576b"
             ],
             [
              0.6666666666666666,
              "#ed7953"
             ],
             [
              0.7777777777777778,
              "#fb9f3a"
             ],
             [
              0.8888888888888888,
              "#fdca26"
             ],
             [
              1,
              "#f0f921"
             ]
            ],
            "type": "surface"
           }
          ],
          "table": [
           {
            "cells": {
             "fill": {
              "color": "#EBF0F8"
             },
             "line": {
              "color": "white"
             }
            },
            "header": {
             "fill": {
              "color": "#C8D4E3"
             },
             "line": {
              "color": "white"
             }
            },
            "type": "table"
           }
          ]
         },
         "layout": {
          "annotationdefaults": {
           "arrowcolor": "#2a3f5f",
           "arrowhead": 0,
           "arrowwidth": 1
          },
          "autotypenumbers": "strict",
          "coloraxis": {
           "colorbar": {
            "outlinewidth": 0,
            "ticks": ""
           }
          },
          "colorscale": {
           "diverging": [
            [
             0,
             "#8e0152"
            ],
            [
             0.1,
             "#c51b7d"
            ],
            [
             0.2,
             "#de77ae"
            ],
            [
             0.3,
             "#f1b6da"
            ],
            [
             0.4,
             "#fde0ef"
            ],
            [
             0.5,
             "#f7f7f7"
            ],
            [
             0.6,
             "#e6f5d0"
            ],
            [
             0.7,
             "#b8e186"
            ],
            [
             0.8,
             "#7fbc41"
            ],
            [
             0.9,
             "#4d9221"
            ],
            [
             1,
             "#276419"
            ]
           ],
           "sequential": [
            [
             0,
             "#0d0887"
            ],
            [
             0.1111111111111111,
             "#46039f"
            ],
            [
             0.2222222222222222,
             "#7201a8"
            ],
            [
             0.3333333333333333,
             "#9c179e"
            ],
            [
             0.4444444444444444,
             "#bd3786"
            ],
            [
             0.5555555555555556,
             "#d8576b"
            ],
            [
             0.6666666666666666,
             "#ed7953"
            ],
            [
             0.7777777777777778,
             "#fb9f3a"
            ],
            [
             0.8888888888888888,
             "#fdca26"
            ],
            [
             1,
             "#f0f921"
            ]
           ],
           "sequentialminus": [
            [
             0,
             "#0d0887"
            ],
            [
             0.1111111111111111,
             "#46039f"
            ],
            [
             0.2222222222222222,
             "#7201a8"
            ],
            [
             0.3333333333333333,
             "#9c179e"
            ],
            [
             0.4444444444444444,
             "#bd3786"
            ],
            [
             0.5555555555555556,
             "#d8576b"
            ],
            [
             0.6666666666666666,
             "#ed7953"
            ],
            [
             0.7777777777777778,
             "#fb9f3a"
            ],
            [
             0.8888888888888888,
             "#fdca26"
            ],
            [
             1,
             "#f0f921"
            ]
           ]
          },
          "colorway": [
           "#636efa",
           "#EF553B",
           "#00cc96",
           "#ab63fa",
           "#FFA15A",
           "#19d3f3",
           "#FF6692",
           "#B6E880",
           "#FF97FF",
           "#FECB52"
          ],
          "font": {
           "color": "#2a3f5f"
          },
          "geo": {
           "bgcolor": "white",
           "lakecolor": "white",
           "landcolor": "#E5ECF6",
           "showlakes": true,
           "showland": true,
           "subunitcolor": "white"
          },
          "hoverlabel": {
           "align": "left"
          },
          "hovermode": "closest",
          "mapbox": {
           "style": "light"
          },
          "paper_bgcolor": "white",
          "plot_bgcolor": "#E5ECF6",
          "polar": {
           "angularaxis": {
            "gridcolor": "white",
            "linecolor": "white",
            "ticks": ""
           },
           "bgcolor": "#E5ECF6",
           "radialaxis": {
            "gridcolor": "white",
            "linecolor": "white",
            "ticks": ""
           }
          },
          "scene": {
           "xaxis": {
            "backgroundcolor": "#E5ECF6",
            "gridcolor": "white",
            "gridwidth": 2,
            "linecolor": "white",
            "showbackground": true,
            "ticks": "",
            "zerolinecolor": "white"
           },
           "yaxis": {
            "backgroundcolor": "#E5ECF6",
            "gridcolor": "white",
            "gridwidth": 2,
            "linecolor": "white",
            "showbackground": true,
            "ticks": "",
            "zerolinecolor": "white"
           },
           "zaxis": {
            "backgroundcolor": "#E5ECF6",
            "gridcolor": "white",
            "gridwidth": 2,
            "linecolor": "white",
            "showbackground": true,
            "ticks": "",
            "zerolinecolor": "white"
           }
          },
          "shapedefaults": {
           "line": {
            "color": "#2a3f5f"
           }
          },
          "ternary": {
           "aaxis": {
            "gridcolor": "white",
            "linecolor": "white",
            "ticks": ""
           },
           "baxis": {
            "gridcolor": "white",
            "linecolor": "white",
            "ticks": ""
           },
           "bgcolor": "#E5ECF6",
           "caxis": {
            "gridcolor": "white",
            "linecolor": "white",
            "ticks": ""
           }
          },
          "title": {
           "x": 0.05
          },
          "xaxis": {
           "automargin": true,
           "gridcolor": "white",
           "linecolor": "white",
           "ticks": "",
           "title": {
            "standoff": 15
           },
           "zerolinecolor": "white",
           "zerolinewidth": 2
          },
          "yaxis": {
           "automargin": true,
           "gridcolor": "white",
           "linecolor": "white",
           "ticks": "",
           "title": {
            "standoff": 15
           },
           "zerolinecolor": "white",
           "zerolinewidth": 2
          }
         }
        },
        "title": {
         "text": "Total cost of Amoxicillin, Doxycycline Hyclate, and Cefalexin (£) per month"
        },
        "xaxis": {
         "anchor": "y",
         "domain": [
          0,
          1
         ],
         "title": {
          "text": "Date"
         }
        },
        "yaxis": {
         "anchor": "x",
         "domain": [
          0,
          1
         ],
         "title": {
          "text": "Cost (£)"
         }
        }
       }
      }
     },
     "metadata": {}
    }
   ],
   "metadata": {}
  },
  {
   "cell_type": "code",
   "execution_count": null,
   "source": [],
   "outputs": [],
   "metadata": {}
  }
 ],
 "metadata": {
  "orig_nbformat": 4,
  "language_info": {
   "name": "python"
  }
 },
 "nbformat": 4,
 "nbformat_minor": 2
}