{
 "cells": [
  {
   "cell_type": "code",
   "execution_count": null,
   "source": [
    "import urllib.request\r\n",
    "import requests\r\n",
    "import json\r\n",
    "import pandas as pd\r\n",
    "import plotly.express as px\r\n",
    "from datetime import datetime"
   ],
   "outputs": [],
   "metadata": {}
  },
  {
   "cell_type": "code",
   "execution_count": null,
   "source": [
    "#0501013B0 = Amoxicillin\r\n",
    "\r\n",
    "url_0501013B0 = \"https://openprescribing.net/api/1.0/spending_by_ccg/?code=0501013B0&format=json\"\r\n",
    "response_0501013B0 = urllib.request.urlopen(url_0501013B0)\r\n",
    "data_0501013B0 = json.loads(response_0501013B0.read())\r\n",
    "flat_data_0501013B0 = pd.json_normalize(data_0501013B0)\r\n",
    "flat_data_0501013B0 = flat_data_0501013B0.groupby(['row_name', 'row_id', 'date']).sum()\r\n",
    "flat_data_0501013B0 = flat_data_0501013B0.drop(columns=['items', 'quantity'])\r\n",
    "flat_data_0501013B0 .rename(columns={'actual_cost': 'Amoxicillin'}, inplace=True)\r\n",
    "flat_data_0501013B0"
   ],
   "outputs": [],
   "metadata": {}
  },
  {
   "cell_type": "code",
   "execution_count": null,
   "source": [
    "#0501030I0 = Doxycycline Hyclate\r\n",
    "\r\n",
    "url_0501030I0 = \"https://openprescribing.net/api/1.0/spending_by_ccg/?code=0501030I0&format=json\"\r\n",
    "response_0501030I0 = urllib.request.urlopen(url_0501030I0)\r\n",
    "data_0501030I0 = json.loads(response_0501030I0.read())\r\n",
    "flat_data_0501030I0 = pd.json_normalize(data_0501030I0)\r\n",
    "flat_data_0501030I0 = flat_data_0501030I0.groupby(['row_name', 'row_id', 'date']).sum()\r\n",
    "flat_data_0501030I0 = flat_data_0501030I0.drop(columns=['items', 'quantity'])\r\n",
    "flat_data_0501030I0.rename(columns={'actual_cost': 'Doxycycline Hyclate'}, inplace=True)\r\n",
    "flat_data_0501030I0"
   ],
   "outputs": [],
   "metadata": {}
  },
  {
   "cell_type": "code",
   "execution_count": null,
   "source": [
    "#0501021L0 = Cefalexin\r\n",
    "\r\n",
    "url_0501021L0 = \"https://openprescribing.net/api/1.0/spending_by_ccg/?code=0501021L0&format=json\"\r\n",
    "response_0501021L0 = urllib.request.urlopen(url_0501021L0)\r\n",
    "data_0501021L0 = json.loads(response_0501021L0.read())\r\n",
    "flat_data_0501021L0= pd.json_normalize(data_0501021L0)\r\n",
    "flat_data_0501021L0 = flat_data_0501021L0.groupby(['row_name', 'row_id', 'date']).sum()\r\n",
    "flat_data_0501021L0 = flat_data_0501021L0.drop(columns=['items', 'quantity'])\r\n",
    "flat_data_0501021L0.rename(columns={'actual_cost': 'Cefalexin'}, inplace=True)\r\n",
    "flat_data_0501021L0"
   ],
   "outputs": [],
   "metadata": {}
  },
  {
   "cell_type": "code",
   "execution_count": null,
   "source": [
    "join_1 = flat_data_0501013B0.join(flat_data_0501030I0, lsuffix='row_id', rsuffix='row_id')\r\n",
    "all_antibiotics_merged = join_1.join(flat_data_0501021L0, lsuffix='row_id', rsuffix='row_id')\r\n",
    "all_antibiotics_merged.fillna(0, inplace=True)\r\n",
    "all_antibiotics_merged['Total cost of Amoxicillin, Doxycycline Hyclate, Cefalexin (£)']= all_antibiotics_merged.iloc[:, -3:].sum(axis=1)\r\n",
    "all_antibiotics = all_antibiotics_merged.reset_index()\r\n",
    "all_antibiotics.rename(columns={'row_name': 'Clinical Commissioning Group (CCG)', 'row_id': 'CCG code', 'date': 'Date'}, inplace=True)\r\n",
    "all_antibiotics"
   ],
   "outputs": [],
   "metadata": {}
  },
  {
   "cell_type": "code",
   "execution_count": null,
   "source": [
    "all_antibiotics_plot = all_antibiotics.groupby(['Date']).sum()\r\n",
    "all_antibiotics_plot = all_antibiotics_plot.reset_index()\r\n",
    "all_antibiotics_plot = all_antibiotics_plot.round(1)"
   ],
   "outputs": [],
   "metadata": {}
  },
  {
   "cell_type": "code",
   "execution_count": null,
   "source": [
    "pd.options.plotting.backend = \"plotly\"\r\n",
    "fig = px.bar(all_antibiotics_plot, x='Date', y= [\"Amoxicillin\", \"Doxycycline Hyclate\", 'Cefalexin'],\r\n",
    "color_discrete_sequence=[\"#003087\", \"#0072CE\", \"#41B6E6\"],\r\n",
    "labels={\"value\": \"Cost (£)\", \"variable\": \"Antibiotic\"},  \r\n",
    "title= \"Total cost of Amoxicillin, Doxycycline Hyclate, and Cefalexin (£) per month\")\r\n",
    "fig.update_layout(\r\n",
    "    {\"plot_bgcolor\": \"rgba(0, 0, 0, 0)\", \"paper_bgcolor\": \"rgba(0, 0, 0, 0)\"},\r\n",
    "    autosize=True,\r\n",
    "    margin=dict(l=50, r=50, b=50, t=50, pad=4, autoexpand=True),\r\n",
    ")\r\n",
    "fig.show()"
   ],
   "outputs": [],
   "metadata": {}
  },
  {
   "cell_type": "code",
   "execution_count": null,
   "source": [
    "#CCG pop from NHS digital \r\n",
    "csv_url = \"https://files.digital.nhs.uk/40/2232E5/gp-reg-pat-prac-all.csv\"\r\n",
    "req = requests.get(csv_url)\r\n",
    "url_content = req.content\r\n",
    "csv_file = open('ccg_pop.csv', 'wb')\r\n",
    "csv_file.write(url_content)\r\n",
    "csv_file.close()\r\n",
    "df1 = pd.read_csv('ccg_pop.csv.csv')\r\n",
    "CCG_pop = df1.groupby(['CCG_CODE']).sum().reset_index()\r\n",
    "CCG_pop.rename(columns={'CCG_CODE': 'CCG code', 'NUMBER_OF_PATIENTS': 'Number of patients registered at GP practices'}, inplace=True)\r\n",
    "CCG_pop"
   ],
   "outputs": [],
   "metadata": {}
  },
  {
   "cell_type": "code",
   "execution_count": null,
   "source": [
    "current_year = datetime.now().year\r\n",
    "current_year_str = str(current_year)"
   ],
   "outputs": [],
   "metadata": {}
  },
  {
   "cell_type": "code",
   "execution_count": null,
   "source": [
    "all_antibiotics[\"Date\"] = pd.to_datetime(all_antibiotics[\"Date\"]).apply(lambda x: x.strftime(\"%Y\"))\r\n",
    "all_antibiotics_current_year = all_antibiotics.loc[all_antibiotics['Date'] == current_year_str]\r\n",
    "df1 = all_antibiotics_current_year.groupby([\"CCG code\", \"Clinical Commissioning Group (CCG)\"]).sum()\r\n",
    "df2 = df1.drop(columns=['Amoxicillin', 'Doxycycline Hyclate', 'Cefalexin'])\r\n",
    "df3 = df2.reset_index()\r\n",
    "df4 = df3.join(CCG_pop, rsuffix='CCG code')\r\n",
    "df5 = df4.drop(columns=['CCG codeCCG code'])\r\n",
    "df5[\"Total cost of Amoxicillin, Doxycycline Hyclate, Cefalexin (£) per 1000 GP registered patients\"] = df5[\"Total cost of Amoxicillin, Doxycycline Hyclate, Cefalexin (£)\"]/(df5[\"Number of patients registered at GP practices\"]/1000)\r\n",
    "df5.round(2)\r\n",
    "df6 = df5.sort_values(by='Total cost of Amoxicillin, Doxycycline Hyclate, Cefalexin (£) per 1000 GP registered patients' , ascending=True)\r\n",
    "df6"
   ],
   "outputs": [],
   "metadata": {}
  },
  {
   "cell_type": "code",
   "execution_count": null,
   "source": [
    "pd.options.plotting.backend = \"plotly\"\r\n",
    "fig_2 = px.bar(df6, y='Clinical Commissioning Group (CCG)', x= \"Total cost of Amoxicillin, Doxycycline Hyclate, Cefalexin (£) per 1000 GP registered patients\",\r\n",
    "log_x=True,\r\n",
    "labels={\"Total cost of Amoxicillin, Doxycycline Hyclate, Cefalexin (£) per 1000 GP registered patients\": \"Cost (£) per 1000 GP registered patients\"},\r\n",
    "title= \"Total cost of Amoxicillin, Doxycycline Hyclate, and Cefalexin (£) per 1000 GP registered patients in %s\" %current_year_str, \r\n",
    "color=\"Total cost of Amoxicillin, Doxycycline Hyclate, Cefalexin (£) per 1000 GP registered patients\",\r\n",
    "color_continuous_scale=px.colors.sequential.ice,\r\n",
    "hover_data={\"Total cost of Amoxicillin, Doxycycline Hyclate, Cefalexin (£) per 1000 GP registered patients\":':.2f'},\r\n",
    "width=1500, height=2000)\r\n",
    "\r\n",
    "fig_2.update_layout(\r\n",
    "    {\"plot_bgcolor\": \"rgba(0, 0, 0, 0)\", \"paper_bgcolor\": \"rgba(0, 0, 0, 0)\"},\r\n",
    "    autosize=True,\r\n",
    "    margin=dict(l=50, r=50, b=50, t=50, pad=4, autoexpand=True),\r\n",
    ")\r\n",
    "fig_2.show()"
   ],
   "outputs": [],
   "metadata": {}
  }
 ],
 "metadata": {
  "orig_nbformat": 4,
  "language_info": {
   "name": "python"
  }
 },
 "nbformat": 4,
 "nbformat_minor": 2
}